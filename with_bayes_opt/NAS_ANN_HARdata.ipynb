{
  "nbformat": 4,
  "nbformat_minor": 0,
  "metadata": {
    "colab": {
      "provenance": [],
      "mount_file_id": "151NyUr2utyy-KENAfnMDdM8M89x2BxHA",
      "authorship_tag": "ABX9TyM5QFf5WN56y0/S8iR34ZDV",
      "include_colab_link": true
    },
    "kernelspec": {
      "name": "python3",
      "display_name": "Python 3"
    },
    "language_info": {
      "name": "python"
    }
  },
  "cells": [
    {
      "cell_type": "markdown",
      "metadata": {
        "id": "view-in-github",
        "colab_type": "text"
      },
      "source": [
        "<a href=\"https://colab.research.google.com/github/Y-Srivaishnavi/simple_neural_architecture_search/blob/main/with_bayes_opt/NAS_ANN_HARdata.ipynb\" target=\"_parent\"><img src=\"https://colab.research.google.com/assets/colab-badge.svg\" alt=\"Open In Colab\"/></a>"
      ]
    },
    {
      "cell_type": "code",
      "execution_count": null,
      "metadata": {
        "colab": {
          "base_uri": "https://localhost:8080/"
        },
        "id": "JMi8kgvcUpwC",
        "outputId": "d6cdccbd-3e56-4cd7-f5bf-74eeedb0a76f"
      },
      "outputs": [
        {
          "output_type": "stream",
          "name": "stdout",
          "text": [
            "Requirement already satisfied: tensorflow in /usr/local/lib/python3.10/dist-packages (2.15.0)\n",
            "Requirement already satisfied: absl-py>=1.0.0 in /usr/local/lib/python3.10/dist-packages (from tensorflow) (1.4.0)\n",
            "Requirement already satisfied: astunparse>=1.6.0 in /usr/local/lib/python3.10/dist-packages (from tensorflow) (1.6.3)\n",
            "Requirement already satisfied: flatbuffers>=23.5.26 in /usr/local/lib/python3.10/dist-packages (from tensorflow) (24.3.25)\n",
            "Requirement already satisfied: gast!=0.5.0,!=0.5.1,!=0.5.2,>=0.2.1 in /usr/local/lib/python3.10/dist-packages (from tensorflow) (0.5.4)\n",
            "Requirement already satisfied: google-pasta>=0.1.1 in /usr/local/lib/python3.10/dist-packages (from tensorflow) (0.2.0)\n",
            "Requirement already satisfied: h5py>=2.9.0 in /usr/local/lib/python3.10/dist-packages (from tensorflow) (3.9.0)\n",
            "Requirement already satisfied: libclang>=13.0.0 in /usr/local/lib/python3.10/dist-packages (from tensorflow) (18.1.1)\n",
            "Requirement already satisfied: ml-dtypes~=0.2.0 in /usr/local/lib/python3.10/dist-packages (from tensorflow) (0.2.0)\n",
            "Requirement already satisfied: numpy<2.0.0,>=1.23.5 in /usr/local/lib/python3.10/dist-packages (from tensorflow) (1.25.2)\n",
            "Requirement already satisfied: opt-einsum>=2.3.2 in /usr/local/lib/python3.10/dist-packages (from tensorflow) (3.3.0)\n",
            "Requirement already satisfied: packaging in /usr/local/lib/python3.10/dist-packages (from tensorflow) (24.0)\n",
            "Requirement already satisfied: protobuf!=4.21.0,!=4.21.1,!=4.21.2,!=4.21.3,!=4.21.4,!=4.21.5,<5.0.0dev,>=3.20.3 in /usr/local/lib/python3.10/dist-packages (from tensorflow) (3.20.3)\n",
            "Requirement already satisfied: setuptools in /usr/local/lib/python3.10/dist-packages (from tensorflow) (67.7.2)\n",
            "Requirement already satisfied: six>=1.12.0 in /usr/local/lib/python3.10/dist-packages (from tensorflow) (1.16.0)\n",
            "Requirement already satisfied: termcolor>=1.1.0 in /usr/local/lib/python3.10/dist-packages (from tensorflow) (2.4.0)\n",
            "Requirement already satisfied: typing-extensions>=3.6.6 in /usr/local/lib/python3.10/dist-packages (from tensorflow) (4.10.0)\n",
            "Requirement already satisfied: wrapt<1.15,>=1.11.0 in /usr/local/lib/python3.10/dist-packages (from tensorflow) (1.14.1)\n",
            "Requirement already satisfied: tensorflow-io-gcs-filesystem>=0.23.1 in /usr/local/lib/python3.10/dist-packages (from tensorflow) (0.36.0)\n",
            "Requirement already satisfied: grpcio<2.0,>=1.24.3 in /usr/local/lib/python3.10/dist-packages (from tensorflow) (1.62.1)\n",
            "Requirement already satisfied: tensorboard<2.16,>=2.15 in /usr/local/lib/python3.10/dist-packages (from tensorflow) (2.15.2)\n",
            "Requirement already satisfied: tensorflow-estimator<2.16,>=2.15.0 in /usr/local/lib/python3.10/dist-packages (from tensorflow) (2.15.0)\n",
            "Requirement already satisfied: keras<2.16,>=2.15.0 in /usr/local/lib/python3.10/dist-packages (from tensorflow) (2.15.0)\n",
            "Requirement already satisfied: wheel<1.0,>=0.23.0 in /usr/local/lib/python3.10/dist-packages (from astunparse>=1.6.0->tensorflow) (0.43.0)\n",
            "Requirement already satisfied: google-auth<3,>=1.6.3 in /usr/local/lib/python3.10/dist-packages (from tensorboard<2.16,>=2.15->tensorflow) (2.27.0)\n",
            "Requirement already satisfied: google-auth-oauthlib<2,>=0.5 in /usr/local/lib/python3.10/dist-packages (from tensorboard<2.16,>=2.15->tensorflow) (1.2.0)\n",
            "Requirement already satisfied: markdown>=2.6.8 in /usr/local/lib/python3.10/dist-packages (from tensorboard<2.16,>=2.15->tensorflow) (3.6)\n",
            "Requirement already satisfied: requests<3,>=2.21.0 in /usr/local/lib/python3.10/dist-packages (from tensorboard<2.16,>=2.15->tensorflow) (2.31.0)\n",
            "Requirement already satisfied: tensorboard-data-server<0.8.0,>=0.7.0 in /usr/local/lib/python3.10/dist-packages (from tensorboard<2.16,>=2.15->tensorflow) (0.7.2)\n",
            "Requirement already satisfied: werkzeug>=1.0.1 in /usr/local/lib/python3.10/dist-packages (from tensorboard<2.16,>=2.15->tensorflow) (3.0.1)\n",
            "Requirement already satisfied: cachetools<6.0,>=2.0.0 in /usr/local/lib/python3.10/dist-packages (from google-auth<3,>=1.6.3->tensorboard<2.16,>=2.15->tensorflow) (5.3.3)\n",
            "Requirement already satisfied: pyasn1-modules>=0.2.1 in /usr/local/lib/python3.10/dist-packages (from google-auth<3,>=1.6.3->tensorboard<2.16,>=2.15->tensorflow) (0.4.0)\n",
            "Requirement already satisfied: rsa<5,>=3.1.4 in /usr/local/lib/python3.10/dist-packages (from google-auth<3,>=1.6.3->tensorboard<2.16,>=2.15->tensorflow) (4.9)\n",
            "Requirement already satisfied: requests-oauthlib>=0.7.0 in /usr/local/lib/python3.10/dist-packages (from google-auth-oauthlib<2,>=0.5->tensorboard<2.16,>=2.15->tensorflow) (1.4.1)\n",
            "Requirement already satisfied: charset-normalizer<4,>=2 in /usr/local/lib/python3.10/dist-packages (from requests<3,>=2.21.0->tensorboard<2.16,>=2.15->tensorflow) (3.3.2)\n",
            "Requirement already satisfied: idna<4,>=2.5 in /usr/local/lib/python3.10/dist-packages (from requests<3,>=2.21.0->tensorboard<2.16,>=2.15->tensorflow) (3.6)\n",
            "Requirement already satisfied: urllib3<3,>=1.21.1 in /usr/local/lib/python3.10/dist-packages (from requests<3,>=2.21.0->tensorboard<2.16,>=2.15->tensorflow) (2.0.7)\n",
            "Requirement already satisfied: certifi>=2017.4.17 in /usr/local/lib/python3.10/dist-packages (from requests<3,>=2.21.0->tensorboard<2.16,>=2.15->tensorflow) (2024.2.2)\n",
            "Requirement already satisfied: MarkupSafe>=2.1.1 in /usr/local/lib/python3.10/dist-packages (from werkzeug>=1.0.1->tensorboard<2.16,>=2.15->tensorflow) (2.1.5)\n",
            "Requirement already satisfied: pyasn1<0.7.0,>=0.4.6 in /usr/local/lib/python3.10/dist-packages (from pyasn1-modules>=0.2.1->google-auth<3,>=1.6.3->tensorboard<2.16,>=2.15->tensorflow) (0.6.0)\n",
            "Requirement already satisfied: oauthlib>=3.0.0 in /usr/local/lib/python3.10/dist-packages (from requests-oauthlib>=0.7.0->google-auth-oauthlib<2,>=0.5->tensorboard<2.16,>=2.15->tensorflow) (3.2.2)\n"
          ]
        }
      ],
      "source": [
        "!pip install tensorflow"
      ]
    },
    {
      "cell_type": "code",
      "source": [
        "import tensorflow as tf"
      ],
      "metadata": {
        "id": "Nbe23GFYVFHp"
      },
      "execution_count": null,
      "outputs": []
    },
    {
      "cell_type": "code",
      "source": [
        "tf.__version__"
      ],
      "metadata": {
        "colab": {
          "base_uri": "https://localhost:8080/",
          "height": 35
        },
        "id": "6Boe9ToGVIjz",
        "outputId": "d54922cd-ad35-4c3c-8d73-b6a65936b52d"
      },
      "execution_count": null,
      "outputs": [
        {
          "output_type": "execute_result",
          "data": {
            "text/plain": [
              "'2.15.0'"
            ],
            "application/vnd.google.colaboratory.intrinsic+json": {
              "type": "string"
            }
          },
          "metadata": {},
          "execution_count": 2
        }
      ]
    },
    {
      "cell_type": "code",
      "source": [
        "import numpy as np\n",
        "import matplotlib.pyplot as plt\n",
        "import pandas as pd"
      ],
      "metadata": {
        "id": "d3y94zhfVMHq"
      },
      "execution_count": null,
      "outputs": []
    },
    {
      "cell_type": "code",
      "source": [
        "train_df = pd.read_csv('/content/drive/MyDrive/G-project/datasets/har/train.csv')\n",
        "test_df = pd.read_csv('/content/drive/MyDrive/G-project/datasets/har/train.csv')"
      ],
      "metadata": {
        "id": "nevrHMTlVfIA"
      },
      "execution_count": null,
      "outputs": []
    },
    {
      "cell_type": "code",
      "source": [
        "train_df.head()"
      ],
      "metadata": {
        "colab": {
          "base_uri": "https://localhost:8080/",
          "height": 273
        },
        "id": "Rs0bMSOTVl3V",
        "outputId": "83756cfb-eafa-43ab-e7ce-3e94f125072c"
      },
      "execution_count": null,
      "outputs": [
        {
          "output_type": "execute_result",
          "data": {
            "text/plain": [
              "   tBodyAcc-mean()-X  tBodyAcc-mean()-Y  tBodyAcc-mean()-Z  tBodyAcc-std()-X  \\\n",
              "0           0.288585          -0.020294          -0.132905         -0.995279   \n",
              "1           0.278419          -0.016411          -0.123520         -0.998245   \n",
              "2           0.279653          -0.019467          -0.113462         -0.995380   \n",
              "3           0.279174          -0.026201          -0.123283         -0.996091   \n",
              "4           0.276629          -0.016570          -0.115362         -0.998139   \n",
              "\n",
              "   tBodyAcc-std()-Y  tBodyAcc-std()-Z  tBodyAcc-mad()-X  tBodyAcc-mad()-Y  \\\n",
              "0         -0.983111         -0.913526         -0.995112         -0.983185   \n",
              "1         -0.975300         -0.960322         -0.998807         -0.974914   \n",
              "2         -0.967187         -0.978944         -0.996520         -0.963668   \n",
              "3         -0.983403         -0.990675         -0.997099         -0.982750   \n",
              "4         -0.980817         -0.990482         -0.998321         -0.979672   \n",
              "\n",
              "   tBodyAcc-mad()-Z  tBodyAcc-max()-X  ...  fBodyBodyGyroJerkMag-kurtosis()  \\\n",
              "0         -0.923527         -0.934724  ...                        -0.710304   \n",
              "1         -0.957686         -0.943068  ...                        -0.861499   \n",
              "2         -0.977469         -0.938692  ...                        -0.760104   \n",
              "3         -0.989302         -0.938692  ...                        -0.482845   \n",
              "4         -0.990441         -0.942469  ...                        -0.699205   \n",
              "\n",
              "   angle(tBodyAccMean,gravity)  angle(tBodyAccJerkMean),gravityMean)  \\\n",
              "0                    -0.112754                              0.030400   \n",
              "1                     0.053477                             -0.007435   \n",
              "2                    -0.118559                              0.177899   \n",
              "3                    -0.036788                             -0.012892   \n",
              "4                     0.123320                              0.122542   \n",
              "\n",
              "   angle(tBodyGyroMean,gravityMean)  angle(tBodyGyroJerkMean,gravityMean)  \\\n",
              "0                         -0.464761                             -0.018446   \n",
              "1                         -0.732626                              0.703511   \n",
              "2                          0.100699                              0.808529   \n",
              "3                          0.640011                             -0.485366   \n",
              "4                          0.693578                             -0.615971   \n",
              "\n",
              "   angle(X,gravityMean)  angle(Y,gravityMean)  angle(Z,gravityMean)  subject  \\\n",
              "0             -0.841247              0.179941             -0.058627        1   \n",
              "1             -0.844788              0.180289             -0.054317        1   \n",
              "2             -0.848933              0.180637             -0.049118        1   \n",
              "3             -0.848649              0.181935             -0.047663        1   \n",
              "4             -0.847865              0.185151             -0.043892        1   \n",
              "\n",
              "   Activity  \n",
              "0  STANDING  \n",
              "1  STANDING  \n",
              "2  STANDING  \n",
              "3  STANDING  \n",
              "4  STANDING  \n",
              "\n",
              "[5 rows x 563 columns]"
            ],
            "text/html": [
              "\n",
              "  <div id=\"df-a981a178-b138-4591-8935-30a50b0d3f9a\" class=\"colab-df-container\">\n",
              "    <div>\n",
              "<style scoped>\n",
              "    .dataframe tbody tr th:only-of-type {\n",
              "        vertical-align: middle;\n",
              "    }\n",
              "\n",
              "    .dataframe tbody tr th {\n",
              "        vertical-align: top;\n",
              "    }\n",
              "\n",
              "    .dataframe thead th {\n",
              "        text-align: right;\n",
              "    }\n",
              "</style>\n",
              "<table border=\"1\" class=\"dataframe\">\n",
              "  <thead>\n",
              "    <tr style=\"text-align: right;\">\n",
              "      <th></th>\n",
              "      <th>tBodyAcc-mean()-X</th>\n",
              "      <th>tBodyAcc-mean()-Y</th>\n",
              "      <th>tBodyAcc-mean()-Z</th>\n",
              "      <th>tBodyAcc-std()-X</th>\n",
              "      <th>tBodyAcc-std()-Y</th>\n",
              "      <th>tBodyAcc-std()-Z</th>\n",
              "      <th>tBodyAcc-mad()-X</th>\n",
              "      <th>tBodyAcc-mad()-Y</th>\n",
              "      <th>tBodyAcc-mad()-Z</th>\n",
              "      <th>tBodyAcc-max()-X</th>\n",
              "      <th>...</th>\n",
              "      <th>fBodyBodyGyroJerkMag-kurtosis()</th>\n",
              "      <th>angle(tBodyAccMean,gravity)</th>\n",
              "      <th>angle(tBodyAccJerkMean),gravityMean)</th>\n",
              "      <th>angle(tBodyGyroMean,gravityMean)</th>\n",
              "      <th>angle(tBodyGyroJerkMean,gravityMean)</th>\n",
              "      <th>angle(X,gravityMean)</th>\n",
              "      <th>angle(Y,gravityMean)</th>\n",
              "      <th>angle(Z,gravityMean)</th>\n",
              "      <th>subject</th>\n",
              "      <th>Activity</th>\n",
              "    </tr>\n",
              "  </thead>\n",
              "  <tbody>\n",
              "    <tr>\n",
              "      <th>0</th>\n",
              "      <td>0.288585</td>\n",
              "      <td>-0.020294</td>\n",
              "      <td>-0.132905</td>\n",
              "      <td>-0.995279</td>\n",
              "      <td>-0.983111</td>\n",
              "      <td>-0.913526</td>\n",
              "      <td>-0.995112</td>\n",
              "      <td>-0.983185</td>\n",
              "      <td>-0.923527</td>\n",
              "      <td>-0.934724</td>\n",
              "      <td>...</td>\n",
              "      <td>-0.710304</td>\n",
              "      <td>-0.112754</td>\n",
              "      <td>0.030400</td>\n",
              "      <td>-0.464761</td>\n",
              "      <td>-0.018446</td>\n",
              "      <td>-0.841247</td>\n",
              "      <td>0.179941</td>\n",
              "      <td>-0.058627</td>\n",
              "      <td>1</td>\n",
              "      <td>STANDING</td>\n",
              "    </tr>\n",
              "    <tr>\n",
              "      <th>1</th>\n",
              "      <td>0.278419</td>\n",
              "      <td>-0.016411</td>\n",
              "      <td>-0.123520</td>\n",
              "      <td>-0.998245</td>\n",
              "      <td>-0.975300</td>\n",
              "      <td>-0.960322</td>\n",
              "      <td>-0.998807</td>\n",
              "      <td>-0.974914</td>\n",
              "      <td>-0.957686</td>\n",
              "      <td>-0.943068</td>\n",
              "      <td>...</td>\n",
              "      <td>-0.861499</td>\n",
              "      <td>0.053477</td>\n",
              "      <td>-0.007435</td>\n",
              "      <td>-0.732626</td>\n",
              "      <td>0.703511</td>\n",
              "      <td>-0.844788</td>\n",
              "      <td>0.180289</td>\n",
              "      <td>-0.054317</td>\n",
              "      <td>1</td>\n",
              "      <td>STANDING</td>\n",
              "    </tr>\n",
              "    <tr>\n",
              "      <th>2</th>\n",
              "      <td>0.279653</td>\n",
              "      <td>-0.019467</td>\n",
              "      <td>-0.113462</td>\n",
              "      <td>-0.995380</td>\n",
              "      <td>-0.967187</td>\n",
              "      <td>-0.978944</td>\n",
              "      <td>-0.996520</td>\n",
              "      <td>-0.963668</td>\n",
              "      <td>-0.977469</td>\n",
              "      <td>-0.938692</td>\n",
              "      <td>...</td>\n",
              "      <td>-0.760104</td>\n",
              "      <td>-0.118559</td>\n",
              "      <td>0.177899</td>\n",
              "      <td>0.100699</td>\n",
              "      <td>0.808529</td>\n",
              "      <td>-0.848933</td>\n",
              "      <td>0.180637</td>\n",
              "      <td>-0.049118</td>\n",
              "      <td>1</td>\n",
              "      <td>STANDING</td>\n",
              "    </tr>\n",
              "    <tr>\n",
              "      <th>3</th>\n",
              "      <td>0.279174</td>\n",
              "      <td>-0.026201</td>\n",
              "      <td>-0.123283</td>\n",
              "      <td>-0.996091</td>\n",
              "      <td>-0.983403</td>\n",
              "      <td>-0.990675</td>\n",
              "      <td>-0.997099</td>\n",
              "      <td>-0.982750</td>\n",
              "      <td>-0.989302</td>\n",
              "      <td>-0.938692</td>\n",
              "      <td>...</td>\n",
              "      <td>-0.482845</td>\n",
              "      <td>-0.036788</td>\n",
              "      <td>-0.012892</td>\n",
              "      <td>0.640011</td>\n",
              "      <td>-0.485366</td>\n",
              "      <td>-0.848649</td>\n",
              "      <td>0.181935</td>\n",
              "      <td>-0.047663</td>\n",
              "      <td>1</td>\n",
              "      <td>STANDING</td>\n",
              "    </tr>\n",
              "    <tr>\n",
              "      <th>4</th>\n",
              "      <td>0.276629</td>\n",
              "      <td>-0.016570</td>\n",
              "      <td>-0.115362</td>\n",
              "      <td>-0.998139</td>\n",
              "      <td>-0.980817</td>\n",
              "      <td>-0.990482</td>\n",
              "      <td>-0.998321</td>\n",
              "      <td>-0.979672</td>\n",
              "      <td>-0.990441</td>\n",
              "      <td>-0.942469</td>\n",
              "      <td>...</td>\n",
              "      <td>-0.699205</td>\n",
              "      <td>0.123320</td>\n",
              "      <td>0.122542</td>\n",
              "      <td>0.693578</td>\n",
              "      <td>-0.615971</td>\n",
              "      <td>-0.847865</td>\n",
              "      <td>0.185151</td>\n",
              "      <td>-0.043892</td>\n",
              "      <td>1</td>\n",
              "      <td>STANDING</td>\n",
              "    </tr>\n",
              "  </tbody>\n",
              "</table>\n",
              "<p>5 rows × 563 columns</p>\n",
              "</div>\n",
              "    <div class=\"colab-df-buttons\">\n",
              "\n",
              "  <div class=\"colab-df-container\">\n",
              "    <button class=\"colab-df-convert\" onclick=\"convertToInteractive('df-a981a178-b138-4591-8935-30a50b0d3f9a')\"\n",
              "            title=\"Convert this dataframe to an interactive table.\"\n",
              "            style=\"display:none;\">\n",
              "\n",
              "  <svg xmlns=\"http://www.w3.org/2000/svg\" height=\"24px\" viewBox=\"0 -960 960 960\">\n",
              "    <path d=\"M120-120v-720h720v720H120Zm60-500h600v-160H180v160Zm220 220h160v-160H400v160Zm0 220h160v-160H400v160ZM180-400h160v-160H180v160Zm440 0h160v-160H620v160ZM180-180h160v-160H180v160Zm440 0h160v-160H620v160Z\"/>\n",
              "  </svg>\n",
              "    </button>\n",
              "\n",
              "  <style>\n",
              "    .colab-df-container {\n",
              "      display:flex;\n",
              "      gap: 12px;\n",
              "    }\n",
              "\n",
              "    .colab-df-convert {\n",
              "      background-color: #E8F0FE;\n",
              "      border: none;\n",
              "      border-radius: 50%;\n",
              "      cursor: pointer;\n",
              "      display: none;\n",
              "      fill: #1967D2;\n",
              "      height: 32px;\n",
              "      padding: 0 0 0 0;\n",
              "      width: 32px;\n",
              "    }\n",
              "\n",
              "    .colab-df-convert:hover {\n",
              "      background-color: #E2EBFA;\n",
              "      box-shadow: 0px 1px 2px rgba(60, 64, 67, 0.3), 0px 1px 3px 1px rgba(60, 64, 67, 0.15);\n",
              "      fill: #174EA6;\n",
              "    }\n",
              "\n",
              "    .colab-df-buttons div {\n",
              "      margin-bottom: 4px;\n",
              "    }\n",
              "\n",
              "    [theme=dark] .colab-df-convert {\n",
              "      background-color: #3B4455;\n",
              "      fill: #D2E3FC;\n",
              "    }\n",
              "\n",
              "    [theme=dark] .colab-df-convert:hover {\n",
              "      background-color: #434B5C;\n",
              "      box-shadow: 0px 1px 3px 1px rgba(0, 0, 0, 0.15);\n",
              "      filter: drop-shadow(0px 1px 2px rgba(0, 0, 0, 0.3));\n",
              "      fill: #FFFFFF;\n",
              "    }\n",
              "  </style>\n",
              "\n",
              "    <script>\n",
              "      const buttonEl =\n",
              "        document.querySelector('#df-a981a178-b138-4591-8935-30a50b0d3f9a button.colab-df-convert');\n",
              "      buttonEl.style.display =\n",
              "        google.colab.kernel.accessAllowed ? 'block' : 'none';\n",
              "\n",
              "      async function convertToInteractive(key) {\n",
              "        const element = document.querySelector('#df-a981a178-b138-4591-8935-30a50b0d3f9a');\n",
              "        const dataTable =\n",
              "          await google.colab.kernel.invokeFunction('convertToInteractive',\n",
              "                                                    [key], {});\n",
              "        if (!dataTable) return;\n",
              "\n",
              "        const docLinkHtml = 'Like what you see? Visit the ' +\n",
              "          '<a target=\"_blank\" href=https://colab.research.google.com/notebooks/data_table.ipynb>data table notebook</a>'\n",
              "          + ' to learn more about interactive tables.';\n",
              "        element.innerHTML = '';\n",
              "        dataTable['output_type'] = 'display_data';\n",
              "        await google.colab.output.renderOutput(dataTable, element);\n",
              "        const docLink = document.createElement('div');\n",
              "        docLink.innerHTML = docLinkHtml;\n",
              "        element.appendChild(docLink);\n",
              "      }\n",
              "    </script>\n",
              "  </div>\n",
              "\n",
              "\n",
              "<div id=\"df-afaa3af2-9a1a-4bfd-ab90-5c90c34a182a\">\n",
              "  <button class=\"colab-df-quickchart\" onclick=\"quickchart('df-afaa3af2-9a1a-4bfd-ab90-5c90c34a182a')\"\n",
              "            title=\"Suggest charts\"\n",
              "            style=\"display:none;\">\n",
              "\n",
              "<svg xmlns=\"http://www.w3.org/2000/svg\" height=\"24px\"viewBox=\"0 0 24 24\"\n",
              "     width=\"24px\">\n",
              "    <g>\n",
              "        <path d=\"M19 3H5c-1.1 0-2 .9-2 2v14c0 1.1.9 2 2 2h14c1.1 0 2-.9 2-2V5c0-1.1-.9-2-2-2zM9 17H7v-7h2v7zm4 0h-2V7h2v10zm4 0h-2v-4h2v4z\"/>\n",
              "    </g>\n",
              "</svg>\n",
              "  </button>\n",
              "\n",
              "<style>\n",
              "  .colab-df-quickchart {\n",
              "      --bg-color: #E8F0FE;\n",
              "      --fill-color: #1967D2;\n",
              "      --hover-bg-color: #E2EBFA;\n",
              "      --hover-fill-color: #174EA6;\n",
              "      --disabled-fill-color: #AAA;\n",
              "      --disabled-bg-color: #DDD;\n",
              "  }\n",
              "\n",
              "  [theme=dark] .colab-df-quickchart {\n",
              "      --bg-color: #3B4455;\n",
              "      --fill-color: #D2E3FC;\n",
              "      --hover-bg-color: #434B5C;\n",
              "      --hover-fill-color: #FFFFFF;\n",
              "      --disabled-bg-color: #3B4455;\n",
              "      --disabled-fill-color: #666;\n",
              "  }\n",
              "\n",
              "  .colab-df-quickchart {\n",
              "    background-color: var(--bg-color);\n",
              "    border: none;\n",
              "    border-radius: 50%;\n",
              "    cursor: pointer;\n",
              "    display: none;\n",
              "    fill: var(--fill-color);\n",
              "    height: 32px;\n",
              "    padding: 0;\n",
              "    width: 32px;\n",
              "  }\n",
              "\n",
              "  .colab-df-quickchart:hover {\n",
              "    background-color: var(--hover-bg-color);\n",
              "    box-shadow: 0 1px 2px rgba(60, 64, 67, 0.3), 0 1px 3px 1px rgba(60, 64, 67, 0.15);\n",
              "    fill: var(--button-hover-fill-color);\n",
              "  }\n",
              "\n",
              "  .colab-df-quickchart-complete:disabled,\n",
              "  .colab-df-quickchart-complete:disabled:hover {\n",
              "    background-color: var(--disabled-bg-color);\n",
              "    fill: var(--disabled-fill-color);\n",
              "    box-shadow: none;\n",
              "  }\n",
              "\n",
              "  .colab-df-spinner {\n",
              "    border: 2px solid var(--fill-color);\n",
              "    border-color: transparent;\n",
              "    border-bottom-color: var(--fill-color);\n",
              "    animation:\n",
              "      spin 1s steps(1) infinite;\n",
              "  }\n",
              "\n",
              "  @keyframes spin {\n",
              "    0% {\n",
              "      border-color: transparent;\n",
              "      border-bottom-color: var(--fill-color);\n",
              "      border-left-color: var(--fill-color);\n",
              "    }\n",
              "    20% {\n",
              "      border-color: transparent;\n",
              "      border-left-color: var(--fill-color);\n",
              "      border-top-color: var(--fill-color);\n",
              "    }\n",
              "    30% {\n",
              "      border-color: transparent;\n",
              "      border-left-color: var(--fill-color);\n",
              "      border-top-color: var(--fill-color);\n",
              "      border-right-color: var(--fill-color);\n",
              "    }\n",
              "    40% {\n",
              "      border-color: transparent;\n",
              "      border-right-color: var(--fill-color);\n",
              "      border-top-color: var(--fill-color);\n",
              "    }\n",
              "    60% {\n",
              "      border-color: transparent;\n",
              "      border-right-color: var(--fill-color);\n",
              "    }\n",
              "    80% {\n",
              "      border-color: transparent;\n",
              "      border-right-color: var(--fill-color);\n",
              "      border-bottom-color: var(--fill-color);\n",
              "    }\n",
              "    90% {\n",
              "      border-color: transparent;\n",
              "      border-bottom-color: var(--fill-color);\n",
              "    }\n",
              "  }\n",
              "</style>\n",
              "\n",
              "  <script>\n",
              "    async function quickchart(key) {\n",
              "      const quickchartButtonEl =\n",
              "        document.querySelector('#' + key + ' button');\n",
              "      quickchartButtonEl.disabled = true;  // To prevent multiple clicks.\n",
              "      quickchartButtonEl.classList.add('colab-df-spinner');\n",
              "      try {\n",
              "        const charts = await google.colab.kernel.invokeFunction(\n",
              "            'suggestCharts', [key], {});\n",
              "      } catch (error) {\n",
              "        console.error('Error during call to suggestCharts:', error);\n",
              "      }\n",
              "      quickchartButtonEl.classList.remove('colab-df-spinner');\n",
              "      quickchartButtonEl.classList.add('colab-df-quickchart-complete');\n",
              "    }\n",
              "    (() => {\n",
              "      let quickchartButtonEl =\n",
              "        document.querySelector('#df-afaa3af2-9a1a-4bfd-ab90-5c90c34a182a button');\n",
              "      quickchartButtonEl.style.display =\n",
              "        google.colab.kernel.accessAllowed ? 'block' : 'none';\n",
              "    })();\n",
              "  </script>\n",
              "</div>\n",
              "\n",
              "    </div>\n",
              "  </div>\n"
            ],
            "application/vnd.google.colaboratory.intrinsic+json": {
              "type": "dataframe",
              "variable_name": "train_df"
            }
          },
          "metadata": {},
          "execution_count": 8
        }
      ]
    },
    {
      "cell_type": "markdown",
      "source": [
        "Divide data into dependent and independent features"
      ],
      "metadata": {
        "id": "rTJRd_pGV20H"
      }
    },
    {
      "cell_type": "code",
      "source": [
        "X_train = train_df.drop('Activity', axis=1)\n",
        "y_train = train_df['Activity']"
      ],
      "metadata": {
        "id": "4CAhDISQV7FF"
      },
      "execution_count": null,
      "outputs": []
    },
    {
      "cell_type": "code",
      "source": [
        "y_train.unique()"
      ],
      "metadata": {
        "colab": {
          "base_uri": "https://localhost:8080/"
        },
        "id": "hpqCxGw7Wa84",
        "outputId": "f2a4a08d-f546-4149-ead3-ada602c642b6"
      },
      "execution_count": null,
      "outputs": [
        {
          "output_type": "execute_result",
          "data": {
            "text/plain": [
              "array(['STANDING', 'SITTING', 'LAYING', 'WALKING', 'WALKING_DOWNSTAIRS',\n",
              "       'WALKING_UPSTAIRS'], dtype=object)"
            ]
          },
          "metadata": {},
          "execution_count": 12
        }
      ]
    },
    {
      "cell_type": "markdown",
      "source": [
        "Note: in `get_dummies`, kwarg `drop_first=True` is used to decrease number of new features made, by 1."
      ],
      "metadata": {
        "id": "NzSdplQbXnEJ"
      }
    },
    {
      "cell_type": "markdown",
      "source": [
        "Since softmax is being used, we need to perform one-hot encoding on `y_train`"
      ],
      "metadata": {
        "id": "9ki1KqzrsNJO"
      }
    },
    {
      "cell_type": "code",
      "source": [
        "y_train_soft = pd.DataFrame.to_numpy(pd.get_dummies(y_train))"
      ],
      "metadata": {
        "id": "J8QVGO1isY16"
      },
      "execution_count": null,
      "outputs": []
    },
    {
      "cell_type": "code",
      "source": [
        "y_train_soft"
      ],
      "metadata": {
        "colab": {
          "base_uri": "https://localhost:8080/"
        },
        "id": "KzQcuWdbfxRt",
        "outputId": "c50b6ef7-5a37-45cb-d9f2-995f785b6082"
      },
      "execution_count": null,
      "outputs": [
        {
          "output_type": "execute_result",
          "data": {
            "text/plain": [
              "array([[0, 0, 1, 0, 0, 0],\n",
              "       [0, 0, 1, 0, 0, 0],\n",
              "       [0, 0, 1, 0, 0, 0],\n",
              "       ...,\n",
              "       [0, 0, 0, 0, 0, 1],\n",
              "       [0, 0, 0, 0, 0, 1],\n",
              "       [0, 0, 0, 0, 0, 1]], dtype=uint8)"
            ]
          },
          "metadata": {},
          "execution_count": 14
        }
      ]
    },
    {
      "cell_type": "code",
      "source": [
        "from sklearn.preprocessing import StandardScaler"
      ],
      "metadata": {
        "id": "vDX9DEOjXOEu"
      },
      "execution_count": null,
      "outputs": []
    },
    {
      "cell_type": "code",
      "source": [
        "ss = StandardScaler()\n",
        "X_train_s = ss.fit_transform(X_train)"
      ],
      "metadata": {
        "id": "McLeAzuhapc8"
      },
      "execution_count": null,
      "outputs": []
    },
    {
      "cell_type": "code",
      "source": [
        "X_train_s"
      ],
      "metadata": {
        "colab": {
          "base_uri": "https://localhost:8080/"
        },
        "id": "P6d4JTONa2o7",
        "outputId": "6d07c1a3-f9c3-4654-a11d-26832d8e4865"
      },
      "execution_count": null,
      "outputs": [
        {
          "output_type": "execute_result",
          "data": {
            "text/plain": [
              "array([[ 0.20064157, -0.0636826 , -0.41962845, ...,  0.40794614,\n",
              "        -0.00756789, -1.8288513 ],\n",
              "       [ 0.05594788,  0.03148567, -0.25390836, ...,  0.40911698,\n",
              "         0.00787517, -1.8288513 ],\n",
              "       [ 0.07351535, -0.04341648, -0.07629468, ...,  0.4102883 ,\n",
              "         0.02650234, -1.8288513 ],\n",
              "       ...,\n",
              "       [-0.01566765,  0.0167814 ,  1.13222107, ...,  0.64059683,\n",
              "         0.34870928,  1.4025149 ],\n",
              "       [ 0.21586648, -0.02812252, -0.86770988, ...,  0.63147758,\n",
              "         0.29327564,  1.4025149 ],\n",
              "       [ 1.09620157,  0.12919873, -1.67268082, ...,  0.63274259,\n",
              "         0.33396081,  1.4025149 ]])"
            ]
          },
          "metadata": {},
          "execution_count": 17
        }
      ]
    },
    {
      "cell_type": "code",
      "source": [
        "X_train_s.shape"
      ],
      "metadata": {
        "colab": {
          "base_uri": "https://localhost:8080/"
        },
        "id": "iq_oCJKDa6S1",
        "outputId": "28d464f0-6090-457e-ae21-bff3f0c25dc9"
      },
      "execution_count": null,
      "outputs": [
        {
          "output_type": "execute_result",
          "data": {
            "text/plain": [
              "(7352, 562)"
            ]
          },
          "metadata": {},
          "execution_count": 18
        }
      ]
    },
    {
      "cell_type": "code",
      "source": [
        "from tensorflow.keras.models import Sequential\n",
        "from tensorflow.keras.layers import Dense, LeakyReLU, ReLU, PReLU\n",
        "from tensorflow.keras.layers import Dropout"
      ],
      "metadata": {
        "id": "VO9TceTPnGG5"
      },
      "execution_count": null,
      "outputs": []
    },
    {
      "cell_type": "code",
      "source": [
        "model = Sequential()"
      ],
      "metadata": {
        "id": "evgI2D2Unu5m"
      },
      "execution_count": null,
      "outputs": []
    },
    {
      "cell_type": "markdown",
      "source": [
        "`units` defines the number of output units"
      ],
      "metadata": {
        "id": "ogJXbqnwgFHN"
      }
    },
    {
      "cell_type": "code",
      "source": [
        "model.add(Dense(15, activation = 'relu', input_shape = (X_train.shape[1], )))"
      ],
      "metadata": {
        "id": "KHPyL57-pgDY"
      },
      "execution_count": null,
      "outputs": []
    },
    {
      "cell_type": "markdown",
      "source": [
        "Mistake 1: `input_shape` was not defined."
      ],
      "metadata": {
        "id": "dFObf0Agb0Cc"
      }
    },
    {
      "cell_type": "code",
      "source": [
        "model.add(Dropout(0.5))"
      ],
      "metadata": {
        "id": "m2a1bR-oppVA"
      },
      "execution_count": null,
      "outputs": []
    },
    {
      "cell_type": "markdown",
      "source": [
        "Mistake 2: `Dropout` was not added for overfit prevention."
      ],
      "metadata": {
        "id": "Lct91AECegY6"
      }
    },
    {
      "cell_type": "code",
      "source": [
        "model.add(Dense(units=100, activation='relu'))"
      ],
      "metadata": {
        "id": "_7-m9i6lpuYz"
      },
      "execution_count": null,
      "outputs": []
    },
    {
      "cell_type": "markdown",
      "source": [
        "Mistake 3: Two hidden layers had the same number of units."
      ],
      "metadata": {
        "id": "PC6JxcMfennt"
      }
    },
    {
      "cell_type": "code",
      "source": [
        "model.add(Dense(units=6, activation='softmax'))"
      ],
      "metadata": {
        "id": "tcKozdYGp6V3"
      },
      "execution_count": null,
      "outputs": []
    },
    {
      "cell_type": "code",
      "source": [
        "model.compile(optimizer='adam', loss='categorical_crossentropy', metrics=['accuracy'])"
      ],
      "metadata": {
        "id": "NC2gTGH5qp-n"
      },
      "execution_count": null,
      "outputs": []
    },
    {
      "cell_type": "markdown",
      "source": [
        "Alternative optimzer, with custom learning rate: `tf.keras.optimzers.Adam(learning_rate=0.02)`"
      ],
      "metadata": {
        "id": "c8eNPZP1rgT2"
      }
    },
    {
      "cell_type": "code",
      "source": [
        "early_stop = tf.keras.callbacks.EarlyStopping(\n",
        "    monitor=\"val_loss\",\n",
        "    min_delta=0.001,\n",
        "    patience=20,\n",
        "    verbose=1,\n",
        "    mode=\"auto\",\n",
        "    baseline=None,\n",
        "    restore_best_weights=False,\n",
        "    start_from_epoch=0,\n",
        ")"
      ],
      "metadata": {
        "id": "yW4zqhPKvMpy"
      },
      "execution_count": null,
      "outputs": []
    },
    {
      "cell_type": "code",
      "source": [
        "model_history = model.fit(X_train_s, y_train_soft, validation_split=0.2, batch_size=10, epochs=1000, callbacks=early_stop)"
      ],
      "metadata": {
        "colab": {
          "base_uri": "https://localhost:8080/"
        },
        "id": "Zh4nE0nirvLP",
        "outputId": "2c20b9ce-9887-4cb0-a553-a7e96ad30e10"
      },
      "execution_count": null,
      "outputs": [
        {
          "output_type": "stream",
          "name": "stdout",
          "text": [
            "Epoch 1/1000\n",
            "589/589 [==============================] - 3s 3ms/step - loss: 0.7568 - accuracy: 0.6691 - val_loss: 0.2731 - val_accuracy: 0.9266\n",
            "Epoch 2/1000\n",
            "589/589 [==============================] - 1s 2ms/step - loss: 0.4607 - accuracy: 0.7883 - val_loss: 0.1953 - val_accuracy: 0.9375\n",
            "Epoch 3/1000\n",
            "589/589 [==============================] - 2s 3ms/step - loss: 0.3673 - accuracy: 0.8386 - val_loss: 0.1720 - val_accuracy: 0.9361\n",
            "Epoch 4/1000\n",
            "589/589 [==============================] - 2s 4ms/step - loss: 0.3256 - accuracy: 0.8628 - val_loss: 0.1590 - val_accuracy: 0.9429\n",
            "Epoch 5/1000\n",
            "589/589 [==============================] - 1s 2ms/step - loss: 0.3019 - accuracy: 0.8708 - val_loss: 0.1748 - val_accuracy: 0.9320\n",
            "Epoch 6/1000\n",
            "589/589 [==============================] - 1s 2ms/step - loss: 0.2745 - accuracy: 0.8851 - val_loss: 0.1857 - val_accuracy: 0.9266\n",
            "Epoch 7/1000\n",
            "589/589 [==============================] - 2s 3ms/step - loss: 0.2632 - accuracy: 0.8910 - val_loss: 0.1709 - val_accuracy: 0.9368\n",
            "Epoch 8/1000\n",
            "589/589 [==============================] - 2s 3ms/step - loss: 0.2435 - accuracy: 0.8997 - val_loss: 0.2133 - val_accuracy: 0.9341\n",
            "Epoch 9/1000\n",
            "589/589 [==============================] - 1s 2ms/step - loss: 0.2453 - accuracy: 0.9019 - val_loss: 0.1835 - val_accuracy: 0.9395\n",
            "Epoch 10/1000\n",
            "589/589 [==============================] - 2s 3ms/step - loss: 0.2211 - accuracy: 0.9100 - val_loss: 0.2443 - val_accuracy: 0.9109\n",
            "Epoch 11/1000\n",
            "589/589 [==============================] - 1s 2ms/step - loss: 0.2013 - accuracy: 0.9245 - val_loss: 0.1565 - val_accuracy: 0.9409\n",
            "Epoch 12/1000\n",
            "589/589 [==============================] - 1s 2ms/step - loss: 0.2149 - accuracy: 0.9150 - val_loss: 0.1649 - val_accuracy: 0.9395\n",
            "Epoch 13/1000\n",
            "589/589 [==============================] - 1s 2ms/step - loss: 0.2166 - accuracy: 0.9128 - val_loss: 0.1656 - val_accuracy: 0.9375\n",
            "Epoch 14/1000\n",
            "589/589 [==============================] - 1s 2ms/step - loss: 0.1982 - accuracy: 0.9216 - val_loss: 0.1695 - val_accuracy: 0.9375\n",
            "Epoch 15/1000\n",
            "589/589 [==============================] - 1s 2ms/step - loss: 0.1925 - accuracy: 0.9223 - val_loss: 0.1878 - val_accuracy: 0.9266\n",
            "Epoch 16/1000\n",
            "589/589 [==============================] - 2s 3ms/step - loss: 0.1862 - accuracy: 0.9274 - val_loss: 0.2269 - val_accuracy: 0.9334\n",
            "Epoch 17/1000\n",
            "589/589 [==============================] - 2s 3ms/step - loss: 0.1868 - accuracy: 0.9277 - val_loss: 0.1885 - val_accuracy: 0.9313\n",
            "Epoch 18/1000\n",
            "589/589 [==============================] - 2s 3ms/step - loss: 0.1811 - accuracy: 0.9294 - val_loss: 0.2393 - val_accuracy: 0.9205\n",
            "Epoch 19/1000\n",
            "589/589 [==============================] - 1s 2ms/step - loss: 0.1847 - accuracy: 0.9298 - val_loss: 0.1977 - val_accuracy: 0.9361\n",
            "Epoch 20/1000\n",
            "589/589 [==============================] - 1s 2ms/step - loss: 0.1844 - accuracy: 0.9284 - val_loss: 0.1971 - val_accuracy: 0.9320\n",
            "Epoch 21/1000\n",
            "589/589 [==============================] - 1s 2ms/step - loss: 0.1709 - accuracy: 0.9320 - val_loss: 0.2787 - val_accuracy: 0.9266\n",
            "Epoch 22/1000\n",
            "589/589 [==============================] - 1s 2ms/step - loss: 0.1668 - accuracy: 0.9379 - val_loss: 0.2050 - val_accuracy: 0.9266\n",
            "Epoch 23/1000\n",
            "589/589 [==============================] - 1s 2ms/step - loss: 0.1751 - accuracy: 0.9318 - val_loss: 0.2298 - val_accuracy: 0.9143\n",
            "Epoch 24/1000\n",
            "589/589 [==============================] - 1s 2ms/step - loss: 0.1719 - accuracy: 0.9373 - val_loss: 0.1883 - val_accuracy: 0.9354\n",
            "Epoch 25/1000\n",
            "589/589 [==============================] - 1s 2ms/step - loss: 0.1657 - accuracy: 0.9381 - val_loss: 0.1511 - val_accuracy: 0.9415\n",
            "Epoch 26/1000\n",
            "589/589 [==============================] - 2s 3ms/step - loss: 0.1640 - accuracy: 0.9362 - val_loss: 0.1354 - val_accuracy: 0.9504\n",
            "Epoch 27/1000\n",
            "589/589 [==============================] - 2s 3ms/step - loss: 0.1516 - accuracy: 0.9388 - val_loss: 0.1294 - val_accuracy: 0.9456\n",
            "Epoch 28/1000\n",
            "589/589 [==============================] - 1s 2ms/step - loss: 0.1528 - accuracy: 0.9432 - val_loss: 0.1826 - val_accuracy: 0.9211\n",
            "Epoch 29/1000\n",
            "589/589 [==============================] - 1s 2ms/step - loss: 0.1609 - accuracy: 0.9384 - val_loss: 0.2511 - val_accuracy: 0.8980\n",
            "Epoch 30/1000\n",
            "589/589 [==============================] - 1s 2ms/step - loss: 0.1580 - accuracy: 0.9373 - val_loss: 0.1694 - val_accuracy: 0.9327\n",
            "Epoch 31/1000\n",
            "589/589 [==============================] - 1s 2ms/step - loss: 0.1581 - accuracy: 0.9417 - val_loss: 0.1791 - val_accuracy: 0.9320\n",
            "Epoch 32/1000\n",
            "589/589 [==============================] - 1s 2ms/step - loss: 0.1467 - accuracy: 0.9452 - val_loss: 0.1497 - val_accuracy: 0.9429\n",
            "Epoch 33/1000\n",
            "589/589 [==============================] - 1s 2ms/step - loss: 0.1385 - accuracy: 0.9452 - val_loss: 0.1665 - val_accuracy: 0.9347\n",
            "Epoch 34/1000\n",
            "589/589 [==============================] - 1s 2ms/step - loss: 0.1411 - accuracy: 0.9461 - val_loss: 0.1625 - val_accuracy: 0.9334\n",
            "Epoch 35/1000\n",
            "589/589 [==============================] - 2s 3ms/step - loss: 0.1465 - accuracy: 0.9451 - val_loss: 0.1512 - val_accuracy: 0.9402\n",
            "Epoch 36/1000\n",
            "589/589 [==============================] - 2s 3ms/step - loss: 0.1412 - accuracy: 0.9483 - val_loss: 0.1268 - val_accuracy: 0.9470\n",
            "Epoch 37/1000\n",
            "589/589 [==============================] - 1s 2ms/step - loss: 0.1501 - accuracy: 0.9417 - val_loss: 0.1881 - val_accuracy: 0.9191\n",
            "Epoch 38/1000\n",
            "589/589 [==============================] - 1s 2ms/step - loss: 0.1529 - accuracy: 0.9466 - val_loss: 0.1111 - val_accuracy: 0.9572\n",
            "Epoch 39/1000\n",
            "589/589 [==============================] - 1s 2ms/step - loss: 0.1510 - accuracy: 0.9398 - val_loss: 0.2232 - val_accuracy: 0.9116\n",
            "Epoch 40/1000\n",
            "589/589 [==============================] - 1s 2ms/step - loss: 0.1354 - accuracy: 0.9485 - val_loss: 0.1388 - val_accuracy: 0.9436\n",
            "Epoch 41/1000\n",
            "589/589 [==============================] - 1s 2ms/step - loss: 0.1364 - accuracy: 0.9452 - val_loss: 0.1763 - val_accuracy: 0.9313\n",
            "Epoch 42/1000\n",
            "589/589 [==============================] - 1s 2ms/step - loss: 0.1322 - accuracy: 0.9486 - val_loss: 0.1541 - val_accuracy: 0.9422\n",
            "Epoch 43/1000\n",
            "589/589 [==============================] - 1s 2ms/step - loss: 0.1312 - accuracy: 0.9495 - val_loss: 0.1462 - val_accuracy: 0.9422\n",
            "Epoch 44/1000\n",
            "589/589 [==============================] - 2s 3ms/step - loss: 0.1364 - accuracy: 0.9463 - val_loss: 0.1913 - val_accuracy: 0.9205\n",
            "Epoch 45/1000\n",
            "589/589 [==============================] - 2s 3ms/step - loss: 0.1353 - accuracy: 0.9515 - val_loss: 0.1165 - val_accuracy: 0.9517\n",
            "Epoch 46/1000\n",
            "589/589 [==============================] - 2s 3ms/step - loss: 0.1376 - accuracy: 0.9505 - val_loss: 0.1608 - val_accuracy: 0.9381\n",
            "Epoch 47/1000\n",
            "589/589 [==============================] - 1s 2ms/step - loss: 0.1258 - accuracy: 0.9510 - val_loss: 0.1513 - val_accuracy: 0.9409\n",
            "Epoch 48/1000\n",
            "589/589 [==============================] - 1s 2ms/step - loss: 0.1197 - accuracy: 0.9546 - val_loss: 0.1455 - val_accuracy: 0.9395\n",
            "Epoch 49/1000\n",
            "589/589 [==============================] - 1s 2ms/step - loss: 0.1258 - accuracy: 0.9515 - val_loss: 0.1333 - val_accuracy: 0.9443\n",
            "Epoch 50/1000\n",
            "589/589 [==============================] - 1s 2ms/step - loss: 0.1236 - accuracy: 0.9539 - val_loss: 0.1319 - val_accuracy: 0.9504\n",
            "Epoch 51/1000\n",
            "589/589 [==============================] - 1s 2ms/step - loss: 0.1341 - accuracy: 0.9502 - val_loss: 0.1493 - val_accuracy: 0.9388\n",
            "Epoch 52/1000\n",
            "589/589 [==============================] - 1s 2ms/step - loss: 0.1312 - accuracy: 0.9495 - val_loss: 0.1534 - val_accuracy: 0.9449\n",
            "Epoch 53/1000\n",
            "589/589 [==============================] - 1s 2ms/step - loss: 0.1214 - accuracy: 0.9546 - val_loss: 0.1202 - val_accuracy: 0.9517\n",
            "Epoch 54/1000\n",
            "589/589 [==============================] - 2s 4ms/step - loss: 0.1174 - accuracy: 0.9560 - val_loss: 0.1451 - val_accuracy: 0.9415\n",
            "Epoch 55/1000\n",
            "589/589 [==============================] - 2s 3ms/step - loss: 0.1123 - accuracy: 0.9573 - val_loss: 0.1523 - val_accuracy: 0.9361\n",
            "Epoch 56/1000\n",
            "589/589 [==============================] - 1s 2ms/step - loss: 0.1227 - accuracy: 0.9536 - val_loss: 0.1371 - val_accuracy: 0.9436\n",
            "Epoch 57/1000\n",
            "589/589 [==============================] - 1s 2ms/step - loss: 0.1226 - accuracy: 0.9560 - val_loss: 0.1219 - val_accuracy: 0.9511\n",
            "Epoch 58/1000\n",
            "589/589 [==============================] - 1s 2ms/step - loss: 0.1272 - accuracy: 0.9536 - val_loss: 0.1409 - val_accuracy: 0.9402\n",
            "Epoch 58: early stopping\n"
          ]
        }
      ]
    },
    {
      "cell_type": "code",
      "source": [
        "model_history.history.keys()"
      ],
      "metadata": {
        "colab": {
          "base_uri": "https://localhost:8080/"
        },
        "id": "uBm7NiwPt7Hr",
        "outputId": "6fcccfbc-6240-4083-bbbd-c1a5f4625f27"
      },
      "execution_count": null,
      "outputs": [
        {
          "output_type": "execute_result",
          "data": {
            "text/plain": [
              "dict_keys(['loss', 'accuracy', 'val_loss', 'val_accuracy'])"
            ]
          },
          "metadata": {},
          "execution_count": 29
        }
      ]
    },
    {
      "cell_type": "markdown",
      "source": [
        "Plot history"
      ],
      "metadata": {
        "id": "2OFnYK_kwJkV"
      }
    },
    {
      "cell_type": "code",
      "source": [
        "plt.plot(model_history.history['accuracy'])\n",
        "plt.plot(model_history.history['val_accuracy'])\n",
        "plt.title('Model Accuracy')\n",
        "plt.ylabel('Accuracy')\n",
        "plt.xlabel('Epochs')\n",
        "plt.legend(['train', 'test'], loc='lower right')\n",
        "plt.show()"
      ],
      "metadata": {
        "colab": {
          "base_uri": "https://localhost:8080/",
          "height": 472
        },
        "id": "5qgsu4aHwM1k",
        "outputId": "1d3c206e-9b80-4de2-baae-6a22deac8579"
      },
      "execution_count": null,
      "outputs": [
        {
          "output_type": "display_data",
          "data": {
            "text/plain": [
              "<Figure size 640x480 with 1 Axes>"
            ],
            "image/png": "[encoded data removed]"
          },
          "metadata": {}
        }
      ]
    },
    {
      "cell_type": "code",
      "source": [
        "plt.plot(model_history.history['loss'])\n",
        "plt.plot(model_history.history['val_loss'])\n",
        "plt.title('Model Loss')\n",
        "plt.ylabel('Loss')\n",
        "plt.xlabel('Epochs')\n",
        "plt.legend(['train', 'test'], loc='lower right')\n",
        "plt.show()"
      ],
      "metadata": {
        "colab": {
          "base_uri": "https://localhost:8080/",
          "height": 472
        },
        "id": "x5pOMcQowwNz",
        "outputId": "5fad5a4f-01da-47e7-ea0d-82a11d10d98b"
      },
      "execution_count": null,
      "outputs": [
        {
          "output_type": "display_data",
          "data": {
            "text/plain": [
              "<Figure size 640x480 with 1 Axes>"
            ],
            "image/png": "[encoded data removed]"
          },
          "metadata": {}
        }
      ]
    },
    {
      "cell_type": "markdown",
      "source": [
        "`transform` is used to prevent data leakage."
      ],
      "metadata": {
        "id": "vDqFwhF8hqwi"
      }
    },
    {
      "cell_type": "code",
      "source": [
        "X_test = ss.transform(test_df.drop('Activity', axis=1))\n",
        "y_test = pd.DataFrame.to_numpy(pd.get_dummies(test_df['Activity']))"
      ],
      "metadata": {
        "id": "UFdsZD9Kg60O"
      },
      "execution_count": null,
      "outputs": []
    },
    {
      "cell_type": "code",
      "source": [
        "y_pred = model.predict(X_test)\n",
        "y_pred = (y_pred >=0.5)"
      ],
      "metadata": {
        "colab": {
          "base_uri": "https://localhost:8080/"
        },
        "id": "UHKXsI2ZxFv2",
        "outputId": "53755c1f-e304-4b5c-c850-5baf55d8da60"
      },
      "execution_count": null,
      "outputs": [
        {
          "output_type": "stream",
          "name": "stdout",
          "text": [
            "230/230 [==============================] - 0s 1ms/step\n"
          ]
        }
      ]
    },
    {
      "cell_type": "code",
      "source": [
        "y_pred = y_pred.astype(int)\n",
        "y_pred"
      ],
      "metadata": {
        "colab": {
          "base_uri": "https://localhost:8080/"
        },
        "id": "S1uG-QS5xXdA",
        "outputId": "1a87c357-74ff-4176-d574-1d8a1c04f456"
      },
      "execution_count": null,
      "outputs": [
        {
          "output_type": "execute_result",
          "data": {
            "text/plain": [
              "array([[0, 0, 1, 0, 0, 0],\n",
              "       [0, 0, 1, 0, 0, 0],\n",
              "       [0, 0, 1, 0, 0, 0],\n",
              "       ...,\n",
              "       [0, 0, 0, 0, 0, 1],\n",
              "       [0, 0, 0, 0, 0, 1],\n",
              "       [0, 0, 0, 0, 0, 1]])"
            ]
          },
          "metadata": {},
          "execution_count": 34
        }
      ]
    },
    {
      "cell_type": "code",
      "source": [
        "from sklearn.metrics import accuracy_score\n",
        "\n",
        "score = accuracy_score(y_pred, y_test)\n",
        "score"
      ],
      "metadata": {
        "colab": {
          "base_uri": "https://localhost:8080/"
        },
        "id": "OIMzMYmuxgE2",
        "outputId": "02e30a71-93c3-447f-8d2d-807380847fe3"
      },
      "execution_count": null,
      "outputs": [
        {
          "output_type": "execute_result",
          "data": {
            "text/plain": [
              "0.9668117519042437"
            ]
          },
          "metadata": {},
          "execution_count": 35
        }
      ]
    },
    {
      "cell_type": "code",
      "source": [
        "model.get_weights()"
      ],
      "metadata": {
        "id": "Tf_ylCumi037",
        "outputId": "45f4cfe5-e35e-4ead-9e78-93ce55b44296",
        "colab": {
          "base_uri": "https://localhost:8080/"
        }
      },
      "execution_count": null,
      "outputs": [
        {
          "output_type": "execute_result",
          "data": {
            "text/plain": [
              "[array([[-0.17836902,  0.0393419 ,  0.08546092, ..., -0.08805352,\n",
              "         -0.1770088 , -0.18975812],\n",
              "        [-0.05223311, -0.06359968,  0.12854311, ..., -0.02061826,\n",
              "         -0.21580955,  0.02305715],\n",
              "        [-0.27555138, -0.18279828, -0.18283848, ..., -0.07509474,\n",
              "         -0.25427866, -0.1889377 ],\n",
              "        ...,\n",
              "        [ 1.0614885 , -0.23843917,  0.20016092, ..., -0.7562771 ,\n",
              "         -0.1299047 , -0.81352603],\n",
              "        [ 0.02355971,  0.01636652, -0.01967643, ..., -0.27077284,\n",
              "         -0.24187562, -0.26692575],\n",
              "        [ 0.19117245,  0.18370067,  0.17994933, ...,  0.05775584,\n",
              "         -0.00623095,  0.08514816]], dtype=float32),\n",
              " array([ 0.00853741, -0.13322997, -0.98393285, -0.3767723 , -0.0222865 ,\n",
              "        -0.5156527 , -0.5676416 , -0.26359624, -0.39679334, -0.20139302,\n",
              "        -0.7996913 , -0.49057087, -0.13181357, -0.2421209 , -0.04735291],\n",
              "       dtype=float32),\n",
              " array([[-0.07119571, -0.8880822 , -0.00525642, ...,  0.3613929 ,\n",
              "          0.30933264,  0.0573898 ],\n",
              "        [-0.07199743,  0.21658717, -0.02097009, ...,  0.00523371,\n",
              "         -0.10652889, -0.04505165],\n",
              "        [ 0.07862202, -0.34669998, -0.10156267, ...,  0.15702318,\n",
              "          0.05636476, -0.13972259],\n",
              "        ...,\n",
              "        [-0.35507584,  0.04029059, -0.22121751, ..., -0.41786164,\n",
              "         -0.03936832, -0.4105757 ],\n",
              "        [-0.2646086 ,  0.03211077,  0.1273189 , ...,  0.11832671,\n",
              "          0.43266758,  0.0945718 ],\n",
              "        [-0.32033455, -0.13520192, -0.24799645, ..., -0.9004641 ,\n",
              "         -0.02468989, -0.17496087]], dtype=float32),\n",
              " array([-0.85647374,  0.29421338, -1.4576294 ,  0.09244396, -1.374052  ,\n",
              "         1.3423804 , -1.0120627 ,  0.8480589 , -0.4102232 , -1.2137998 ,\n",
              "        -1.0976436 , -0.77467924, -0.6212362 , -0.7011228 , -1.5532396 ,\n",
              "         0.23610054,  0.54400533, -0.18843721,  1.0028481 , -0.11806589,\n",
              "         1.1781282 , -1.5912898 , -1.2795346 ,  0.6265398 , -1.4109557 ,\n",
              "        -0.24195954,  1.385486  ,  0.9760449 , -0.00607098,  0.47461638,\n",
              "        -1.5745811 ,  0.19268347,  1.4808753 ,  0.20236038,  1.640578  ,\n",
              "        -0.5199305 , -1.4694567 , -1.0278746 , -0.5852381 ,  0.4637448 ,\n",
              "         0.16977395,  0.14266235,  0.59185565, -0.7253686 ,  1.0652971 ,\n",
              "         1.1681004 ,  0.8185733 , -1.1497235 , -0.9611326 , -1.4613078 ,\n",
              "         0.3319629 , -1.4293458 ,  0.53168076, -0.49862295,  0.42782617,\n",
              "        -0.5305282 , -0.17131884, -0.24313009, -0.46762225, -0.59961915,\n",
              "        -1.1496342 , -0.59114826,  0.40997   ,  0.6919835 ,  1.0575916 ,\n",
              "         0.08201854, -1.475195  , -0.8209406 , -0.9721126 ,  1.2302766 ,\n",
              "         0.65875345,  1.0732628 ,  0.32908574, -1.1021113 ,  0.5097637 ,\n",
              "        -0.20578751, -0.787084  , -0.4465764 ,  0.70120907,  0.5873942 ,\n",
              "         1.0305566 ,  1.0258871 , -1.4866812 ,  0.87794435,  0.5580489 ,\n",
              "         0.8044594 , -1.4493622 , -1.1350302 ,  1.0809824 ,  0.48972687,\n",
              "         0.19557709, -0.63126343,  0.29412478,  1.1114845 , -1.7435156 ,\n",
              "         0.15439467, -0.8247998 ,  0.3416304 , -1.0570207 , -0.8742314 ],\n",
              "       dtype=float32),\n",
              " array([[-1.31658554e+00, -1.15765475e-01,  1.17269583e-01,\n",
              "          6.37886822e-02,  1.71820149e-01, -3.26674014e-01],\n",
              "        [-1.67740881e-01,  1.57805458e-01, -1.35229617e-01,\n",
              "         -2.95610297e-02, -4.12920296e-01,  1.11406118e-01],\n",
              "        [ 3.13079953e-01, -3.62474620e-01,  2.32996240e-01,\n",
              "          3.49326342e-01, -3.73153597e-01, -2.90302306e-01],\n",
              "        [ 2.07853362e-01, -2.34608650e-01, -2.50453889e-01,\n",
              "         -1.26592264e-01, -2.27946136e-03,  9.92641598e-02],\n",
              "        [ 2.74211347e-01, -2.10023403e-01, -4.07471150e-01,\n",
              "          1.64534956e-01,  2.35537484e-01, -2.62349606e-01],\n",
              "        [-7.78458238e-01,  5.82430780e-01, -3.85144293e-01,\n",
              "          3.87199409e-02,  1.58946350e-01,  8.58076885e-02],\n",
              "        [ 4.07395095e-01, -1.44372866e-01, -4.50342029e-01,\n",
              "          3.33160490e-01,  2.16365084e-01, -1.70008332e-01],\n",
              "        [ 1.75121531e-01,  1.09910041e-01, -5.50042570e-01,\n",
              "          1.24681555e-01, -2.59809256e-01,  2.88994581e-01],\n",
              "        [ 2.85628699e-02, -4.10324275e-01, -5.59089184e-01,\n",
              "         -2.41920620e-01,  1.48952529e-01, -1.42389238e-01],\n",
              "        [ 2.29929045e-01,  1.51709110e-01, -5.76014638e-01,\n",
              "          2.64992267e-01, -2.14406475e-01,  1.72808588e-01],\n",
              "        [-5.93296923e-02,  7.47462213e-02, -5.12252986e-01,\n",
              "          2.14410782e-01,  9.06008761e-03,  1.32807434e-01],\n",
              "        [-8.47430304e-02,  2.43196204e-01, -1.81397319e-01,\n",
              "         -5.68654835e-02, -3.68870907e-02, -1.86305299e-01],\n",
              "        [ 1.71866752e-02,  4.66650501e-02, -2.54348785e-01,\n",
              "          5.67944534e-02, -5.49331168e-03, -1.49805635e-01],\n",
              "        [ 2.96172827e-01,  4.63620126e-02, -1.88358083e-01,\n",
              "         -7.89771974e-01, -2.11012498e-01,  1.10880502e-01],\n",
              "        [-5.63398004e-01,  1.86308399e-02, -1.61172301e-01,\n",
              "          2.11605713e-01, -4.00130630e-01, -4.40947026e-01],\n",
              "        [-5.46508878e-02,  5.66268675e-02, -8.14373717e-02,\n",
              "          5.87639660e-02, -4.90185827e-01, -3.70035142e-01],\n",
              "        [-1.05356965e-02, -1.02538997e-02, -2.12595388e-02,\n",
              "          2.12164700e-01, -1.08859152e-01, -3.26972276e-01],\n",
              "        [ 2.75066290e-02, -1.54871661e-02, -1.33080548e-02,\n",
              "         -8.04137811e-03, -1.77560836e-01,  1.21688753e-01],\n",
              "        [ 2.23561093e-01,  2.45144740e-01, -5.03976822e-01,\n",
              "          6.19244874e-01, -1.18127875e-01, -1.83495954e-02],\n",
              "        [-1.93400402e-02,  9.85433981e-02,  1.79701038e-02,\n",
              "         -9.35355946e-02, -2.76507527e-01,  1.90205231e-01],\n",
              "        [ 3.25515747e-01, -7.14432716e-01,  3.04691643e-01,\n",
              "         -1.88913256e-01,  2.15375498e-02, -3.79894733e-01],\n",
              "        [ 1.58743531e-01, -5.74238718e-01, -1.79222692e-02,\n",
              "         -1.72678202e-01,  3.18686038e-01, -2.01427788e-01],\n",
              "        [-1.48680300e-01, -3.44118536e-01, -1.88003421e-01,\n",
              "         -1.48738235e-01,  2.52404869e-01,  1.56988025e-01],\n",
              "        [-3.03160399e-01, -1.51837721e-01,  1.83555186e-01,\n",
              "          6.51500896e-02, -8.59087110e-02,  3.16840291e-01],\n",
              "        [ 3.37603122e-01, -2.67620776e-02,  3.41359586e-01,\n",
              "          1.69337481e-01, -5.40802121e-01, -2.83827633e-01],\n",
              "        [ 2.65459996e-03, -4.95374575e-03,  2.10891217e-02,\n",
              "         -1.32485569e-01, -1.12664349e-01, -1.00166507e-01],\n",
              "        [ 4.69994426e-01,  5.81554584e-02, -2.10470885e-01,\n",
              "         -7.82136619e-01,  4.78483260e-01, -5.24676800e-01],\n",
              "        [ 2.24062607e-01, -2.45412126e-01,  4.96744812e-01,\n",
              "         -9.96298045e-02,  3.63508254e-01, -1.74374089e-01],\n",
              "        [-5.26247501e-01, -8.32327530e-02, -1.88869685e-02,\n",
              "          4.19588946e-02,  3.67555581e-02,  1.96789518e-01],\n",
              "        [-2.18496025e-01,  9.16864872e-02,  1.13433033e-01,\n",
              "         -2.00419739e-01, -4.54073697e-02, -1.35954186e-01],\n",
              "        [ 3.61348182e-01, -3.59245926e-01,  1.15582496e-01,\n",
              "         -3.93287271e-01,  4.91790682e-01, -5.62873423e-01],\n",
              "        [ 7.23382160e-02,  9.73126441e-02,  2.38157079e-01,\n",
              "         -4.10712183e-01, -5.44677675e-01, -1.74782723e-01],\n",
              "        [-7.66846240e-01,  4.22612965e-01,  1.81376114e-01,\n",
              "         -4.47771758e-01,  3.10941309e-01, -1.90482751e-01],\n",
              "        [ 1.52732022e-02, -2.97012031e-01, -2.21673161e-01,\n",
              "         -2.30674654e-01, -2.43087724e-01,  2.27984220e-01],\n",
              "        [ 8.23399663e-01, -1.05564058e+00, -2.11276546e-01,\n",
              "          4.82126087e-01,  3.17074098e-02, -6.17595434e-01],\n",
              "        [-1.22861612e+00, -2.25578859e-01, -4.18470688e-02,\n",
              "          1.85490057e-01,  1.37816966e-01,  2.61267841e-01],\n",
              "        [ 4.35097098e-01, -3.49072129e-01,  1.37607083e-01,\n",
              "          1.63258180e-01, -6.05457664e-01, -3.27338874e-01],\n",
              "        [ 4.10520822e-01, -2.28513360e-01,  2.25472614e-01,\n",
              "          1.84319377e-01, -4.73355204e-01,  2.58071035e-01],\n",
              "        [ 6.94555938e-02, -4.42651287e-02, -2.79926538e-01,\n",
              "         -2.42459863e-01, -4.06697571e-01, -2.51872659e-01],\n",
              "        [-1.18722744e-01,  8.21623132e-02,  1.42980501e-01,\n",
              "         -1.24484889e-01, -2.46586546e-01, -2.82174516e-02],\n",
              "        [ 4.69972342e-02, -1.83563456e-01,  4.27229069e-02,\n",
              "          1.68033376e-01,  8.97771791e-02,  1.75386235e-01],\n",
              "        [ 9.50363725e-02,  1.34758070e-01,  1.31006435e-01,\n",
              "         -4.19509560e-02, -2.10112080e-01, -1.05024874e-01],\n",
              "        [-4.64563161e-01, -1.98027328e-01,  2.70561129e-01,\n",
              "          8.35322961e-02,  5.41963428e-02,  1.81515589e-01],\n",
              "        [ 4.14676845e-01, -3.32962602e-01, -6.28510237e-01,\n",
              "          1.63928688e-01,  1.60584360e-01,  1.06543146e-01],\n",
              "        [ 1.48017853e-01,  2.62466252e-01,  1.13958262e-01,\n",
              "         -5.14004111e-01,  2.70581543e-01, -4.61372942e-01],\n",
              "        [ 4.44472730e-02, -1.25880791e-02, -1.43963382e-01,\n",
              "          4.88893360e-01, -2.38526314e-01, -4.73375529e-01],\n",
              "        [ 1.13992661e-01, -4.01147008e-01, -3.76291275e-01,\n",
              "          3.14323038e-01, -1.56813636e-01,  7.39535317e-02],\n",
              "        [ 8.30768943e-02, -1.64945751e-01, -3.51109147e-01,\n",
              "          2.74754763e-01, -3.71054590e-01,  2.12565847e-02],\n",
              "        [ 5.03125191e-01, -3.01817894e-01, -6.68728501e-02,\n",
              "         -4.85537231e-01,  3.30800302e-02, -3.55789304e-01],\n",
              "        [ 2.73885071e-01, -2.09205478e-01, -1.12484349e-02,\n",
              "          2.06125230e-01, -3.31002414e-01, -4.71425354e-01],\n",
              "        [ 4.16328609e-02,  1.20176457e-01, -1.20235921e-03,\n",
              "          1.77517459e-02,  2.40674801e-02,  3.16682272e-02],\n",
              "        [-7.06843615e-01,  1.89044833e-01,  8.93136263e-02,\n",
              "          1.06969960e-01, -4.55520749e-01,  1.44033991e-02],\n",
              "        [ 7.21479505e-02,  1.35997273e-02, -5.95964119e-02,\n",
              "          4.93298471e-02,  1.04137264e-01,  3.14606309e-01],\n",
              "        [-8.20334136e-01, -2.82667518e-01, -1.77780092e-01,\n",
              "          1.51016384e-01,  6.66389540e-02,  1.41463429e-01],\n",
              "        [-1.77417938e-02, -1.70910358e-02,  3.83586995e-02,\n",
              "         -1.62665725e-01, -6.01781189e-01, -2.08300918e-01],\n",
              "        [-3.30371223e-02,  5.03941141e-02,  8.21285024e-02,\n",
              "         -4.90777463e-01, -1.25920975e+00, -3.08722079e-01],\n",
              "        [-1.51033951e-02, -1.11784143e-02,  1.02495924e-01,\n",
              "         -1.41951978e-01,  1.18609071e-01,  2.05599979e-01],\n",
              "        [-1.24570107e+00,  2.13828031e-02,  3.11033964e-01,\n",
              "          1.66818485e-01, -3.04964572e-01, -1.24982148e-01],\n",
              "        [ 4.09558602e-02,  1.05224214e-02,  1.15761778e-03,\n",
              "         -1.01876229e-01, -2.97064900e-01, -3.33897285e-02],\n",
              "        [ 1.60198808e-01,  9.87151191e-02,  2.12955818e-01,\n",
              "         -6.46890163e-01, -6.21686816e-01, -4.04554725e-01],\n",
              "        [-8.49258065e-01,  7.46368617e-02,  1.30982965e-01,\n",
              "          3.22371870e-01, -1.10840960e-03,  1.96201235e-01],\n",
              "        [ 2.65507668e-01, -5.36055602e-02,  2.52039492e-01,\n",
              "         -1.37613015e-03, -1.34450290e-02, -1.46801618e-03],\n",
              "        [-2.35151142e-01, -1.19334273e-02,  1.28395811e-01,\n",
              "         -2.04982050e-03,  5.72854280e-03,  4.65775132e-02],\n",
              "        [-3.62487435e-01, -1.38244126e-02,  8.13694764e-03,\n",
              "          1.80493146e-01, -1.29700944e-01,  3.09849363e-02],\n",
              "        [-1.64281294e-01,  2.70825122e-02,  2.80335248e-01,\n",
              "         -6.36569142e-01,  8.35770071e-01, -3.98267090e-01],\n",
              "        [ 2.02551454e-01,  2.15547517e-01,  1.44171625e-01,\n",
              "         -6.63690090e-01, -8.70191693e-01, -1.73311293e-01],\n",
              "        [ 9.84312370e-02, -5.88019453e-02, -4.86293674e-01,\n",
              "         -3.85851234e-01,  2.19088465e-01, -2.79771000e-01],\n",
              "        [-2.48089880e-01,  2.42727533e-01,  1.03817500e-01,\n",
              "          5.09213954e-02,  1.38112381e-01, -2.37660073e-02],\n",
              "        [-5.16116083e-01,  2.22002581e-01, -2.94132940e-02,\n",
              "          3.57081115e-01,  3.35016310e-01,  3.78007628e-03],\n",
              "        [-6.77613199e-01,  1.62121207e-01, -5.28381988e-02,\n",
              "         -2.78793365e-01, -1.73389331e-01,  2.30700839e-02],\n",
              "        [ 1.47135794e-01,  2.52729893e-01,  2.51408756e-01,\n",
              "         -7.15139747e-01, -2.11825699e-01, -2.43004188e-01],\n",
              "        [ 3.98589015e-01,  2.58496910e-01,  3.27261746e-01,\n",
              "          4.99702811e-01, -3.28058481e-01, -1.84702814e-01],\n",
              "        [ 1.06576450e-01,  9.50898454e-02,  2.72348195e-01,\n",
              "         -2.07725391e-01,  1.39456049e-01,  2.40579858e-01],\n",
              "        [ 2.56308824e-01,  8.54221918e-03, -7.71034300e-01,\n",
              "         -5.89643419e-02,  3.14521581e-01,  1.22137457e-01],\n",
              "        [ 6.96702525e-02, -5.66719510e-02,  3.51535231e-02,\n",
              "          1.15864202e-01, -1.55307725e-01, -2.84361422e-01],\n",
              "        [ 4.64610159e-02, -3.91334817e-02, -2.01542914e-01,\n",
              "         -2.23805338e-01, -9.34051201e-02,  2.02288870e-02],\n",
              "        [ 6.76850304e-02, -1.47509843e-01, -7.28359938e-01,\n",
              "          1.07297450e-01, -9.59478766e-02, -1.43587468e-02],\n",
              "        [ 1.31863669e-01,  1.27120912e-01,  1.20105878e-01,\n",
              "         -2.68207490e-01, -6.80211112e-02, -1.80442050e-01],\n",
              "        [ 3.93956065e-01, -5.52271605e-02, -1.11284256e-01,\n",
              "          5.34105720e-03,  2.87126869e-01, -2.31964782e-01],\n",
              "        [-1.37960315e-02, -3.79273891e-01, -2.78403193e-01,\n",
              "          2.01348230e-01,  3.79787944e-02,  1.76278740e-01],\n",
              "        [ 2.98396260e-01, -4.75426823e-01,  1.69255674e-01,\n",
              "         -2.57418275e-01,  1.50348678e-01,  2.27448955e-01],\n",
              "        [ 1.69454023e-01, -5.41755259e-01,  2.62411088e-01,\n",
              "         -2.47162834e-01,  1.25087187e-01,  5.42586595e-02],\n",
              "        [ 8.82098377e-02, -2.46200144e-01, -3.62610728e-01,\n",
              "          2.58726001e-01,  1.98781535e-01, -2.94947922e-01],\n",
              "        [-8.19008872e-02,  1.20151721e-01, -1.04297072e-01,\n",
              "          2.03757226e-01, -4.54985052e-01, -1.81965232e-02],\n",
              "        [-3.23233306e-01,  2.67891455e-02, -1.09998189e-01,\n",
              "         -8.31907690e-02, -1.16993964e-01, -4.06983458e-02],\n",
              "        [ 3.79950553e-01,  2.15698779e-02, -4.09686446e-01,\n",
              "          6.00359030e-02,  2.62527347e-01, -5.08296378e-02],\n",
              "        [ 1.74037158e-01,  4.70389277e-02,  2.38637522e-01,\n",
              "         -3.99612606e-01,  4.64267671e-01, -1.08981721e-01],\n",
              "        [ 5.95765114e-02, -1.94998875e-01, -2.79424608e-01,\n",
              "          1.84101149e-01,  1.21823370e-01,  4.27354053e-02],\n",
              "        [-2.79887646e-01,  3.06983024e-01, -9.46329758e-02,\n",
              "          3.12402964e-01, -8.25315490e-02, -8.94551650e-02],\n",
              "        [-7.95219094e-03,  6.02425188e-02, -3.52789685e-02,\n",
              "         -1.11530229e-01, -4.34990942e-01, -5.82494795e-01],\n",
              "        [-3.24261278e-01, -3.88106644e-01, -5.89789212e-01,\n",
              "         -9.64122415e-02,  5.54478094e-02,  8.86034667e-02],\n",
              "        [ 2.70587839e-02, -7.89947286e-02, -6.28975928e-01,\n",
              "         -1.02272563e-01,  8.38097036e-02, -9.33650956e-02],\n",
              "        [-1.00403950e-01,  8.81102756e-02,  5.28370775e-02,\n",
              "         -2.84653842e-01,  4.48403731e-02,  8.45666602e-02],\n",
              "        [ 3.57207395e-02,  9.74662229e-03, -1.80037349e-01,\n",
              "          6.08211458e-01, -3.51017952e-01, -1.23699047e-01],\n",
              "        [-5.70844769e-01,  3.05321455e-01,  4.17927913e-02,\n",
              "          5.20933211e-01, -1.44012988e-01, -4.50666726e-01],\n",
              "        [ 1.61143746e-02, -2.08301358e-02,  4.19284869e-03,\n",
              "         -3.98890162e-03,  1.00057229e-01,  1.08831324e-01],\n",
              "        [-2.23071980e+00, -1.99260369e-01, -3.67102027e-02,\n",
              "          1.07313767e-01, -1.01022720e-01,  2.80115027e-02],\n",
              "        [-8.57950926e-01, -5.39178491e-01, -3.92772585e-01,\n",
              "          1.63202360e-01,  1.56894892e-01,  2.94031143e-01],\n",
              "        [ 3.78210664e-01,  1.67609639e-02, -6.98734879e-01,\n",
              "         -2.47744337e-01, -1.34946648e-02,  1.49381384e-01],\n",
              "        [ 3.59680206e-02, -1.67016149e-01,  1.98147334e-02,\n",
              "         -9.47474409e-03, -4.53109711e-01, -7.03628063e-02]], dtype=float32),\n",
              " array([-0.3446817 ,  0.30389073,  0.07785032, -0.23029692, -0.38838297,\n",
              "         0.3835876 ], dtype=float32)]"
            ]
          },
          "metadata": {},
          "execution_count": 36
        }
      ]
    },
    {
      "cell_type": "markdown",
      "source": [
        "# Neural Architecture Search using BO"
      ],
      "metadata": {
        "id": "pTkqjHW4LyHC"
      }
    },
    {
      "cell_type": "markdown",
      "source": [
        "We will try to automate finding the optimal ANN hidden layers using NAS."
      ],
      "metadata": {
        "id": "UIDDik_BL3jR"
      }
    },
    {
      "cell_type": "code",
      "source": [
        "!pip install scikit-optimize"
      ],
      "metadata": {
        "colab": {
          "base_uri": "https://localhost:8080/"
        },
        "id": "5ivTbQ40Nq2K",
        "outputId": "aaa2228c-4041-42f4-866a-a9bb7e2a41d0"
      },
      "execution_count": null,
      "outputs": [
        {
          "output_type": "stream",
          "name": "stdout",
          "text": [
            "Collecting scikit-optimize\n",
            "  Downloading scikit_optimize-0.10.1-py2.py3-none-any.whl (107 kB)\n",
            "\u001b[?25l     \u001b[90m━━━━━━━━━━━━━━━━━━━━━━━━━━━━━━━━━━━━━━━━\u001b[0m \u001b[32m0.0/107.7 kB\u001b[0m \u001b[31m?\u001b[0m eta \u001b[36m-:--:--\u001b[0m\r\u001b[2K     \u001b[91m━━━━━━━━━━━━━━━━━━━━━━━━━━━━━━━━━━━━━━\u001b[0m\u001b[90m╺\u001b[0m\u001b[90m━\u001b[0m \u001b[32m102.4/107.7 kB\u001b[0m \u001b[31m3.3 MB/s\u001b[0m eta \u001b[36m0:00:01\u001b[0m\r\u001b[2K     \u001b[90m━━━━━━━━━━━━━━━━━━━━━━━━━━━━━━━━━━━━━━━━\u001b[0m \u001b[32m107.7/107.7 kB\u001b[0m \u001b[31m2.6 MB/s\u001b[0m eta \u001b[36m0:00:00\u001b[0m\n",
            "\u001b[?25hRequirement already satisfied: joblib>=0.11 in /usr/local/lib/python3.10/dist-packages (from scikit-optimize) (1.4.0)\n",
            "Collecting pyaml>=16.9 (from scikit-optimize)\n",
            "  Downloading pyaml-23.12.0-py3-none-any.whl (23 kB)\n",
            "Requirement already satisfied: numpy>=1.20.3 in /usr/local/lib/python3.10/dist-packages (from scikit-optimize) (1.25.2)\n",
            "Requirement already satisfied: scipy>=1.1.0 in /usr/local/lib/python3.10/dist-packages (from scikit-optimize) (1.11.4)\n",
            "Requirement already satisfied: scikit-learn>=1.0.0 in /usr/local/lib/python3.10/dist-packages (from scikit-optimize) (1.2.2)\n",
            "Requirement already satisfied: packaging>=21.3 in /usr/local/lib/python3.10/dist-packages (from scikit-optimize) (24.0)\n",
            "Requirement already satisfied: PyYAML in /usr/local/lib/python3.10/dist-packages (from pyaml>=16.9->scikit-optimize) (6.0.1)\n",
            "Requirement already satisfied: threadpoolctl>=2.0.0 in /usr/local/lib/python3.10/dist-packages (from scikit-learn>=1.0.0->scikit-optimize) (3.4.0)\n",
            "Installing collected packages: pyaml, scikit-optimize\n",
            "Successfully installed pyaml-23.12.0 scikit-optimize-0.10.1\n"
          ]
        }
      ]
    },
    {
      "cell_type": "code",
      "source": [
        "from tensorflow.keras.datasets import mnist\n",
        "from tensorflow.keras.utils import to_categorical\n",
        "from skopt import gp_minimize\n",
        "from skopt.space import Integer\n",
        "from skopt.utils import use_named_args\n",
        "\n",
        "# Define the space of hyperparameters to search\n",
        "search_space = [\n",
        "    Integer(1, 3, name='n_layers'),\n",
        "    Integer(50, 500, name='n_neurons')\n",
        "]\n",
        "\n",
        "# Model training and evaluation function\n",
        "@use_named_args(search_space)\n",
        "def objective(**params):\n",
        "    print(f\"Training with params: {params}\")\n",
        "    auto_model = Sequential()\n",
        "    auto_model.add(Dense(15, activation='relu', input_shape = (X_train.shape[1], )))\n",
        "    for _ in range(params['n_layers'] - 1):\n",
        "        auto_model.add(Dense(params['n_neurons'], activation='relu'))\n",
        "    auto_model.add(Dense(6, activation='softmax'))\n",
        "\n",
        "    auto_model.compile(optimizer='adam', loss='categorical_crossentropy', metrics=['accuracy'])\n",
        "    auto_model.fit(X_train_s, y_train_soft, epochs=5, batch_size=128, verbose=0, validation_split=0.1)\n",
        "    loss, acc = auto_model.evaluate(X_test, y_test, verbose=0)\n",
        "    print(f\"Accuracy: {acc}, Loss: {loss}\")\n",
        "    # We aim to minimize loss, hence return the loss\n",
        "    return loss\n",
        "\n",
        "# Perform Bayesian optimization\n",
        "result = gp_minimize(objective, search_space, n_calls=10, random_state=0)\n",
        "\n",
        "print(f\"Best parameters: {result.x}\")\n",
        "print(f\"Best loss: {result.fun}\")\n"
      ],
      "metadata": {
        "colab": {
          "base_uri": "https://localhost:8080/"
        },
        "id": "ZcJXoymlL9Lq",
        "outputId": "d960770c-277a-4599-8d98-48198d413854"
      },
      "execution_count": null,
      "outputs": [
        {
          "output_type": "stream",
          "name": "stdout",
          "text": [
            "Training with params: {'n_layers': 2, 'n_neurons': 430}\n",
            "Accuracy: 0.9795973896980286, Loss: 0.059193309396505356\n",
            "Training with params: {'n_layers': 3, 'n_neurons': 431}\n",
            "Accuracy: 0.9827257990837097, Loss: 0.04784978926181793\n",
            "Training with params: {'n_layers': 2, 'n_neurons': 223}\n",
            "Accuracy: 0.9700761437416077, Loss: 0.07614979147911072\n",
            "Training with params: {'n_layers': 2, 'n_neurons': 76}\n",
            "Accuracy: 0.9764689803123474, Loss: 0.07410941272974014\n",
            "Training with params: {'n_layers': 2, 'n_neurons': 265}\n",
            "Accuracy: 0.9787812829017639, Loss: 0.06333231925964355\n",
            "Training with params: {'n_layers': 3, 'n_neurons': 266}\n",
            "Accuracy: 0.97633296251297, Loss: 0.0694354996085167\n",
            "Training with params: {'n_layers': 2, 'n_neurons': 426}\n",
            "Accuracy: 0.9787812829017639, Loss: 0.06334543973207474\n",
            "Training with params: {'n_layers': 2, 'n_neurons': 342}\n",
            "Accuracy: 0.9770130515098572, Loss: 0.06363251805305481\n",
            "Training with params: {'n_layers': 2, 'n_neurons': 481}\n",
            "Accuracy: 0.9783732295036316, Loss: 0.05738263577222824\n",
            "Training with params: {'n_layers': 1, 'n_neurons': 442}\n",
            "Accuracy: 0.9700761437416077, Loss: 0.11006374657154083\n",
            "Best parameters: [3, 431]\n",
            "Best loss: 0.04784978926181793\n"
          ]
        }
      ]
    },
    {
      "cell_type": "code",
      "source": [
        "result"
      ],
      "metadata": {
        "colab": {
          "base_uri": "https://localhost:8080/"
        },
        "id": "3oihhafNODJ2",
        "outputId": "afc1aeda-28af-4307-ba5f-eb76ad7694dd"
      },
      "execution_count": null,
      "outputs": [
        {
          "output_type": "execute_result",
          "data": {
            "text/plain": [
              "          fun: 0.04784978926181793\n",
              "            x: [3, 431]\n",
              "    func_vals: [ 5.919e-02  4.785e-02  7.615e-02  7.411e-02  6.333e-02\n",
              "                 6.944e-02  6.335e-02  6.363e-02  5.738e-02  1.101e-01]\n",
              "      x_iters: [[2, 430], [3, 431], [2, 223], [2, 76], [2, 265], [3, 266], [2, 426], [2, 342], [2, 481], [1, 442]]\n",
              "       models: [GaussianProcessRegressor(kernel=1**2 * Matern(length_scale=[1, 1], nu=2.5) + WhiteKernel(noise_level=1),\n",
              "                                        n_restarts_optimizer=2, noise='gaussian',\n",
              "                                        normalize_y=True, random_state=209652396)]\n",
              "        space: Space([Integer(low=1, high=3, prior='uniform', transform='normalize'),\n",
              "                      Integer(low=50, high=500, prior='uniform', transform='normalize')])\n",
              " random_state: RandomState(MT19937)\n",
              "        specs:     args:                    func: <function objective at 0x7a99877bdb40>\n",
              "                                      dimensions: Space([Integer(low=1, high=3, prior='uniform', transform='normalize'),\n",
              "                                                         Integer(low=50, high=500, prior='uniform', transform='normalize')])\n",
              "                                  base_estimator: GaussianProcessRegressor(kernel=1**2 * Matern(length_scale=[1, 1], nu=2.5),\n",
              "                                                                           n_restarts_optimizer=2, noise='gaussian',\n",
              "                                                                           normalize_y=True, random_state=209652396)\n",
              "                                         n_calls: 10\n",
              "                                 n_random_starts: None\n",
              "                                n_initial_points: 10\n",
              "                         initial_point_generator: random\n",
              "                                        acq_func: gp_hedge\n",
              "                                   acq_optimizer: auto\n",
              "                                              x0: None\n",
              "                                              y0: None\n",
              "                                    random_state: RandomState(MT19937)\n",
              "                                         verbose: False\n",
              "                                        callback: None\n",
              "                                        n_points: 10000\n",
              "                            n_restarts_optimizer: 5\n",
              "                                              xi: 0.01\n",
              "                                           kappa: 1.96\n",
              "                                          n_jobs: 1\n",
              "                                model_queue_size: None\n",
              "                                space_constraint: None\n",
              "               function: base_minimize"
            ]
          },
          "metadata": {},
          "execution_count": 13
        }
      ]
    },
    {
      "cell_type": "markdown",
      "source": [
        "The number of neurons seem to be same in both layers, which is not done. Testing another approach."
      ],
      "metadata": {
        "id": "rxMW83g4PiLw"
      }
    },
    {
      "cell_type": "code",
      "source": [
        "from tensorflow.keras.datasets import mnist\n",
        "from tensorflow.keras.utils import to_categorical\n",
        "from skopt import gp_minimize\n",
        "from skopt.space import Integer\n",
        "from skopt.utils import use_named_args\n",
        "\n",
        "# Define the space of hyperparameters to search\n",
        "search_space = [\n",
        "    Integer(1, 3, name='n_layers'),\n",
        "    Integer(50, 500, name='neurons_layer_1'),\n",
        "    Integer(50, 500, name='neurons_layer_2'),\n",
        "    Integer(50, 500, name='neurons_layer_3'),\n",
        "]\n",
        "\n",
        "# Model training and evaluation function\n",
        "@use_named_args(search_space)\n",
        "def objective(**params):\n",
        "    print(f\"Training with params: {params}\")\n",
        "    auto_model = Sequential()\n",
        "    auto_model.add(Dense(15, activation='relu', input_shape = (X_train.shape[1], )))\n",
        "    for i in range(1, params['n_layers']+1):\n",
        "        if i == 1:\n",
        "          auto_model.add(Dropout(0.5))\n",
        "        auto_model.add(Dense(params[f'neurons_layer_{i}'], activation='relu'))\n",
        "    auto_model.add(Dense(6, activation='softmax'))\n",
        "\n",
        "    auto_model.compile(optimizer='adam', loss='categorical_crossentropy', metrics=['accuracy'])\n",
        "    auto_model.fit(X_train_s, y_train_soft, epochs=5, batch_size=128, verbose=0, validation_split=0.1)\n",
        "    loss, acc = auto_model.evaluate(X_test, y_test, verbose=0)\n",
        "    print(f\"Accuracy: {acc}, Loss: {loss}\")\n",
        "    # We aim to minimize loss, hence return the loss\n",
        "    return loss\n",
        "\n",
        "# Perform Bayesian optimization\n",
        "result = gp_minimize(objective, search_space, n_calls=10, random_state=0)\n",
        "\n",
        "print(f\"Best parameters: {result.x}\")\n",
        "print(f\"Best loss: {result.fun}\")\n"
      ],
      "metadata": {
        "colab": {
          "base_uri": "https://localhost:8080/"
        },
        "id": "olAew0DvPGRV",
        "outputId": "6273bd91-2a42-49c4-d119-6fa672f895a5"
      },
      "execution_count": null,
      "outputs": [
        {
          "output_type": "stream",
          "name": "stdout",
          "text": [
            "Training with params: {'n_layers': 2, 'neurons_layer_1': 430, 'neurons_layer_2': 436, 'neurons_layer_3': 431}\n",
            "Accuracy: 0.9457290768623352, Loss: 0.19169139862060547\n",
            "Training with params: {'n_layers': 2, 'neurons_layer_1': 223, 'neurons_layer_2': 184, 'neurons_layer_3': 76}\n",
            "Accuracy: 0.9627312421798706, Loss: 0.13956427574157715\n",
            "Training with params: {'n_layers': 2, 'neurons_layer_1': 265, 'neurons_layer_2': 415, 'neurons_layer_3': 266}\n",
            "Accuracy: 0.937976062297821, Loss: 0.199576273560524\n",
            "Training with params: {'n_layers': 2, 'neurons_layer_1': 426, 'neurons_layer_2': 202, 'neurons_layer_3': 342}\n",
            "Accuracy: 0.9394722580909729, Loss: 0.20955298840999603\n",
            "Training with params: {'n_layers': 2, 'neurons_layer_1': 481, 'neurons_layer_2': 113, 'neurons_layer_3': 442}\n",
            "Accuracy: 0.9597388505935669, Loss: 0.16647271811962128\n",
            "Training with params: {'n_layers': 2, 'neurons_layer_1': 410, 'neurons_layer_2': 284, 'neurons_layer_3': 355}\n",
            "Accuracy: 0.9469532370567322, Loss: 0.17043225467205048\n",
            "Training with params: {'n_layers': 2, 'neurons_layer_1': 312, 'neurons_layer_2': 292, 'neurons_layer_3': 391}\n",
            "Accuracy: 0.9348476529121399, Loss: 0.19158808887004852\n",
            "Training with params: {'n_layers': 1, 'neurons_layer_1': 263, 'neurons_layer_2': 134, 'neurons_layer_3': 382}\n",
            "Accuracy: 0.9476333260536194, Loss: 0.2032894641160965\n",
            "Training with params: {'n_layers': 1, 'neurons_layer_1': 111, 'neurons_layer_2': 196, 'neurons_layer_3': 117}\n",
            "Accuracy: 0.9398803114891052, Loss: 0.20346252620220184\n",
            "Training with params: {'n_layers': 1, 'neurons_layer_1': 224, 'neurons_layer_2': 456, 'neurons_layer_3': 252}\n",
            "Accuracy: 0.9601469039916992, Loss: 0.17548435926437378\n",
            "Best parameters: [2, 223, 184, 76]\n",
            "Best loss: 0.13956427574157715\n"
          ]
        }
      ]
    },
    {
      "cell_type": "markdown",
      "source": [
        "Model could not achieve the accuracy it did earlier. Why? Presumably, the addition of the `Dropout` layer with fixed 0.5 prevented overfitting."
      ],
      "metadata": {
        "id": "euIIuVaRRwzM"
      }
    },
    {
      "cell_type": "code",
      "source": [
        "from tensorflow.keras.datasets import mnist\n",
        "from tensorflow.keras.utils import to_categorical\n",
        "from skopt import gp_minimize\n",
        "from skopt.space import Integer, Real\n",
        "from skopt.utils import use_named_args\n",
        "\n",
        "# Define the space of hyperparameters to search\n",
        "search_space = [\n",
        "    Integer(1, 3, name='n_layers'),\n",
        "    Integer(50, 500, name='neurons_layer_1'),\n",
        "    Integer(50, 500, name='neurons_layer_2'),\n",
        "    Integer(50, 500, name='neurons_layer_3'),\n",
        "]\n",
        "\n",
        "# Model training and evaluation function\n",
        "@use_named_args(search_space)\n",
        "def objective(**params):\n",
        "    print(f\"Training with params: {params}\")\n",
        "    auto_model = Sequential()\n",
        "    auto_model.add(Dense(15, activation='relu', input_shape = (X_train.shape[1], )))\n",
        "    for i in range(1, params['n_layers']+1):\n",
        "        if i == 1:\n",
        "          auto_model.add(Dropout(0.5))\n",
        "        auto_model.add(Dense(params[f'neurons_layer_{i}'], activation='relu'))\n",
        "    auto_model.add(Dense(6, activation='softmax'))\n",
        "\n",
        "    auto_model.compile(optimizer='adam', loss='categorical_crossentropy', metrics=['accuracy'])\n",
        "    auto_model.fit(X_train_s, y_train_soft, epochs=5, batch_size=10, verbose=0, validation_split=0.1)\n",
        "    loss, acc = auto_model.evaluate(X_test, y_test, verbose=0)\n",
        "    print(f\"Accuracy: {acc}, Loss: {loss}\")\n",
        "    # We aim to minimize loss, hence return the loss\n",
        "    return loss\n",
        "\n",
        "# Perform Bayesian optimization\n",
        "result = gp_minimize(objective, search_space, n_calls=10, random_state=0)\n",
        "\n",
        "print(f\"Best parameters: {result.x}\")\n",
        "print(f\"Best loss: {result.fun}\")"
      ],
      "metadata": {
        "colab": {
          "base_uri": "https://localhost:8080/"
        },
        "id": "kWs7iLEIR3Np",
        "outputId": "654facc3-f990-46a2-8b2b-d4222f525d86"
      },
      "execution_count": null,
      "outputs": [
        {
          "output_type": "stream",
          "name": "stdout",
          "text": [
            "Training with params: {'n_layers': 2, 'neurons_layer_1': 430, 'neurons_layer_2': 436, 'neurons_layer_3': 431}\n",
            "Accuracy: 0.9638193845748901, Loss: 0.18396349251270294\n",
            "Training with params: {'n_layers': 2, 'neurons_layer_1': 223, 'neurons_layer_2': 184, 'neurons_layer_3': 76}\n",
            "Accuracy: 0.9552502632141113, Loss: 0.16796594858169556\n",
            "Training with params: {'n_layers': 2, 'neurons_layer_1': 265, 'neurons_layer_2': 415, 'neurons_layer_3': 266}\n",
            "Accuracy: 0.9268226623535156, Loss: 0.21185779571533203\n",
            "Training with params: {'n_layers': 2, 'neurons_layer_1': 426, 'neurons_layer_2': 202, 'neurons_layer_3': 342}\n",
            "Accuracy: 0.975108802318573, Loss: 0.11162668466567993\n",
            "Training with params: {'n_layers': 2, 'neurons_layer_1': 481, 'neurons_layer_2': 113, 'neurons_layer_3': 442}\n",
            "Accuracy: 0.8486126065254211, Loss: 0.3405413329601288\n",
            "Training with params: {'n_layers': 2, 'neurons_layer_1': 410, 'neurons_layer_2': 284, 'neurons_layer_3': 355}\n",
            "Accuracy: 0.9411044716835022, Loss: 0.1985594779253006\n",
            "Training with params: {'n_layers': 2, 'neurons_layer_1': 312, 'neurons_layer_2': 292, 'neurons_layer_3': 391}\n",
            "Accuracy: 0.9442328810691833, Loss: 0.19122065603733063\n",
            "Training with params: {'n_layers': 1, 'neurons_layer_1': 263, 'neurons_layer_2': 134, 'neurons_layer_3': 382}\n",
            "Accuracy: 0.9725244641304016, Loss: 0.11361674219369888\n",
            "Training with params: {'n_layers': 1, 'neurons_layer_1': 111, 'neurons_layer_2': 196, 'neurons_layer_3': 117}\n",
            "Accuracy: 0.9661316871643066, Loss: 0.10852865874767303\n",
            "Training with params: {'n_layers': 1, 'neurons_layer_1': 224, 'neurons_layer_2': 456, 'neurons_layer_3': 252}\n",
            "Accuracy: 0.9498095512390137, Loss: 0.13981685042381287\n",
            "Best parameters: [1, 111, 196, 117]\n",
            "Best loss: 0.10852865874767303\n"
          ]
        }
      ]
    },
    {
      "cell_type": "markdown",
      "source": [
        "Training was slower when decreasing batch size. Batch size also seems to matter, as `loss` in earlier iterations was not so high."
      ],
      "metadata": {
        "id": "xM7gNGyITNAJ"
      }
    },
    {
      "cell_type": "code",
      "source": [
        "from tensorflow.keras.datasets import mnist\n",
        "from tensorflow.keras.utils import to_categorical\n",
        "from skopt import gp_minimize\n",
        "from skopt.space import Integer\n",
        "from skopt.utils import use_named_args\n",
        "\n",
        "# Define the space of hyperparameters to search\n",
        "search_space = [\n",
        "    Integer(1, 3, name='n_layers'),\n",
        "    Integer(50, 500, name='neurons_layer_1'),\n",
        "    Integer(50, 500, name='neurons_layer_2'),\n",
        "    Integer(50, 500, name='neurons_layer_3'),\n",
        "    Real(0.0, 0.5, name='dropout_rate')\n",
        "]\n",
        "\n",
        "# Model training and evaluation function\n",
        "@use_named_args(search_space)\n",
        "def objective(**params):\n",
        "    print(f\"Training with params: {params}\")\n",
        "    auto_model = Sequential()\n",
        "    auto_model.add(Dense(15, activation='relu', input_shape = (X_train.shape[1], )))\n",
        "    for i in range(1, params['n_layers']+1):\n",
        "        if i == 1:\n",
        "          auto_model.add(Dropout(params['dropout_rate']))\n",
        "        auto_model.add(Dense(params[f'neurons_layer_{i}'], activation='relu'))\n",
        "    auto_model.add(Dense(6, activation='softmax'))\n",
        "\n",
        "    auto_model.compile(optimizer='adam', loss='categorical_crossentropy', metrics=['accuracy'])\n",
        "    auto_model.fit(X_train_s, y_train_soft, epochs=5, batch_size=128, verbose=0, validation_split=0.1)\n",
        "    loss, acc = auto_model.evaluate(X_test, y_test, verbose=0)\n",
        "    print(f\"Accuracy: {acc}, Loss: {loss}\")\n",
        "    # We aim to minimize loss, hence return the loss\n",
        "    return loss\n",
        "\n",
        "# Perform Bayesian optimization\n",
        "result = gp_minimize(objective, search_space, n_calls=10, random_state=0)\n",
        "\n",
        "print(f\"Best parameters: {result.x}\")\n",
        "print(f\"Best loss: {result.fun}\")"
      ],
      "metadata": {
        "colab": {
          "base_uri": "https://localhost:8080/"
        },
        "id": "jFgNdYY-TRJt",
        "outputId": "372fde0e-6bbf-48cd-b428-53af2c0ec5d3"
      },
      "execution_count": null,
      "outputs": [
        {
          "output_type": "stream",
          "name": "stdout",
          "text": [
            "Training with params: {'n_layers': 2, 'neurons_layer_1': 430, 'neurons_layer_2': 436, 'neurons_layer_3': 431, 'dropout_rate': 0.3117818483929862}\n",
            "Accuracy: 0.97048419713974, Loss: 0.08900338411331177\n",
            "Training with params: {'n_layers': 2, 'neurons_layer_1': 184, 'neurons_layer_2': 76, 'neurons_layer_3': 173, 'dropout_rate': 0.238832558660675}\n",
            "Accuracy: 0.9729325175285339, Loss: 0.0801766961812973\n",
            "Training with params: {'n_layers': 3, 'neurons_layer_1': 266, 'neurons_layer_2': 227, 'neurons_layer_3': 426, 'dropout_rate': 0.16869808020863422}\n",
            "Accuracy: 0.9719803929328918, Loss: 0.07485951483249664\n",
            "Training with params: {'n_layers': 2, 'neurons_layer_1': 216, 'neurons_layer_2': 481, 'neurons_layer_3': 113, 'dropout_rate': 0.4350436291792183}\n",
            "Accuracy: 0.9666757583618164, Loss: 0.11853403598070145\n",
            "Training with params: {'n_layers': 2, 'neurons_layer_1': 410, 'neurons_layer_2': 284, 'neurons_layer_3': 355, 'dropout_rate': 0.36031632736295843}\n",
            "Accuracy: 0.9698041081428528, Loss: 0.10490834712982178\n",
            "Training with params: {'n_layers': 2, 'neurons_layer_1': 292, 'neurons_layer_2': 391, 'neurons_layer_3': 98, 'dropout_rate': 0.23680020967332877}\n",
            "Accuracy: 0.9755168557167053, Loss: 0.0731935128569603\n",
            "Training with params: {'n_layers': 1, 'neurons_layer_1': 382, 'neurons_layer_2': 147, 'neurons_layer_3': 111, 'dropout_rate': 0.16207050389660707}\n",
            "Accuracy: 0.9719803929328918, Loss: 0.0776769146323204\n",
            "Training with params: {'n_layers': 1, 'neurons_layer_1': 150, 'neurons_layer_2': 224, 'neurons_layer_3': 456, 'dropout_rate': 0.22497499495561385}\n",
            "Accuracy: 0.9702121615409851, Loss: 0.09495746344327927\n",
            "Training with params: {'n_layers': 2, 'neurons_layer_1': 456, 'neurons_layer_2': 95, 'neurons_layer_3': 486, 'dropout_rate': 0.3265700178989689}\n",
            "Accuracy: 0.9725244641304016, Loss: 0.09024868905544281\n",
            "Training with params: {'n_layers': 1, 'neurons_layer_1': 211, 'neurons_layer_2': 388, 'neurons_layer_3': 324, 'dropout_rate': 0.16252361450417627}\n",
            "Accuracy: 0.9736126065254211, Loss: 0.07786966115236282\n",
            "Best parameters: [2, 292, 391, 98, 0.23680020967332877]\n",
            "Best loss: 0.0731935128569603\n"
          ]
        }
      ]
    },
    {
      "cell_type": "markdown",
      "source": [
        "Increasing number of calls to see if improvement will be visible.\n"
      ],
      "metadata": {
        "id": "z4xRp4uGppGd"
      }
    },
    {
      "cell_type": "code",
      "source": [
        "from tensorflow.keras.utils import to_categorical\n",
        "from skopt import gp_minimize\n",
        "from skopt.space import Integer, Real\n",
        "from skopt.utils import use_named_args\n",
        "\n",
        "# Define the space of hyperparameters to search\n",
        "search_space = [\n",
        "    Integer(1, 3, name='n_layers'),\n",
        "    Integer(50, 500, name='neurons_layer_1'),\n",
        "    Integer(50, 500, name='neurons_layer_2'),\n",
        "    Integer(50, 500, name='neurons_layer_3'),\n",
        "    Real(0.0, 0.5, name='dropout_rate')\n",
        "]\n",
        "\n",
        "# Model training and evaluation function\n",
        "@use_named_args(search_space)\n",
        "def objective(**params):\n",
        "    print(f\"Training with params: {params}\")\n",
        "    auto_model = Sequential()\n",
        "    auto_model.add(Dense(15, activation='relu', input_shape = (X_train.shape[1], )))\n",
        "    for i in range(1, params['n_layers']+1):\n",
        "        if i == 1:\n",
        "          auto_model.add(Dropout(params['dropout_rate']))\n",
        "        auto_model.add(Dense(params[f'neurons_layer_{i}'], activation='relu'))\n",
        "    auto_model.add(Dense(6, activation='softmax'))\n",
        "\n",
        "    auto_model.compile(optimizer='adam', loss='categorical_crossentropy', metrics=['accuracy'])\n",
        "    auto_model.fit(X_train_s, y_train_soft, epochs=5, batch_size=128, verbose=0, validation_split=0.1, callbacks=early_stop)\n",
        "    loss, acc = auto_model.evaluate(X_test, y_test, verbose=0)\n",
        "    print(f\"Accuracy: {acc}, Loss: {loss}\")\n",
        "    # We aim to minimize loss, hence return the loss\n",
        "    return loss\n",
        "\n",
        "# Perform Bayesian optimization\n",
        "result = gp_minimize(objective, search_space, n_calls=20, random_state=0)\n",
        "\n",
        "print(f\"Best parameters: {result.x}\")\n",
        "print(f\"Best loss: {result.fun}\")"
      ],
      "metadata": {
        "colab": {
          "base_uri": "https://localhost:8080/"
        },
        "id": "dvgVmNxwpvTo",
        "outputId": "d7523f74-5d1b-46b2-ac38-eb70f8effc98"
      },
      "execution_count": null,
      "outputs": [
        {
          "output_type": "stream",
          "name": "stdout",
          "text": [
            "Training with params: {'n_layers': 2, 'neurons_layer_1': 430, 'neurons_layer_2': 436, 'neurons_layer_3': 431, 'dropout_rate': 0.3117818483929862}\n",
            "Accuracy: 0.975108802318573, Loss: 0.07911065220832825\n",
            "Training with params: {'n_layers': 2, 'neurons_layer_1': 184, 'neurons_layer_2': 76, 'neurons_layer_3': 173, 'dropout_rate': 0.238832558660675}\n",
            "Accuracy: 0.9740206599235535, Loss: 0.0909016877412796\n",
            "Training with params: {'n_layers': 3, 'neurons_layer_1': 266, 'neurons_layer_2': 227, 'neurons_layer_3': 426, 'dropout_rate': 0.16869808020863422}\n",
            "Accuracy: 0.9757888913154602, Loss: 0.06251523643732071\n",
            "Training with params: {'n_layers': 2, 'neurons_layer_1': 216, 'neurons_layer_2': 481, 'neurons_layer_3': 113, 'dropout_rate': 0.4350436291792183}\n",
            "Accuracy: 0.9685800075531006, Loss: 0.10659053921699524\n",
            "Training with params: {'n_layers': 2, 'neurons_layer_1': 410, 'neurons_layer_2': 284, 'neurons_layer_3': 355, 'dropout_rate': 0.36031632736295843}\n",
            "Accuracy: 0.9702121615409851, Loss: 0.09700068831443787\n",
            "Training with params: {'n_layers': 2, 'neurons_layer_1': 292, 'neurons_layer_2': 391, 'neurons_layer_3': 98, 'dropout_rate': 0.23680020967332877}\n",
            "Accuracy: 0.9759249091148376, Loss: 0.06962660700082779\n",
            "Training with params: {'n_layers': 1, 'neurons_layer_1': 382, 'neurons_layer_2': 147, 'neurons_layer_3': 111, 'dropout_rate': 0.16207050389660707}\n",
            "Accuracy: 0.9696680903434753, Loss: 0.08077753335237503\n",
            "Training with params: {'n_layers': 1, 'neurons_layer_1': 150, 'neurons_layer_2': 224, 'neurons_layer_3': 456, 'dropout_rate': 0.22497499495561385}\n",
            "Accuracy: 0.9673558473587036, Loss: 0.10283324122428894\n",
            "Training with params: {'n_layers': 2, 'neurons_layer_1': 456, 'neurons_layer_2': 95, 'neurons_layer_3': 486, 'dropout_rate': 0.3265700178989689}\n",
            "Accuracy: 0.9703481793403625, Loss: 0.09490793943405151\n",
            "Training with params: {'n_layers': 1, 'neurons_layer_1': 211, 'neurons_layer_2': 388, 'neurons_layer_3': 324, 'dropout_rate': 0.16252361450417627}\n",
            "Accuracy: 0.9737486243247986, Loss: 0.08479543775320053\n",
            "Training with params: {'n_layers': 3, 'neurons_layer_1': 457, 'neurons_layer_2': 500, 'neurons_layer_3': 50, 'dropout_rate': 0.14361838359865897}\n",
            "Accuracy: 0.9742926955223083, Loss: 0.07309059053659439\n",
            "Training with params: {'n_layers': 3, 'neurons_layer_1': 93, 'neurons_layer_2': 500, 'neurons_layer_3': 64, 'dropout_rate': 0.07162655111172836}\n",
            "Accuracy: 0.97633296251297, Loss: 0.06357311457395554\n",
            "Training with params: {'n_layers': 3, 'neurons_layer_1': 231, 'neurons_layer_2': 50, 'neurons_layer_3': 464, 'dropout_rate': 0.0}\n",
            "Accuracy: 0.9776931405067444, Loss: 0.06422906368970871\n",
            "Training with params: {'n_layers': 2, 'neurons_layer_1': 354, 'neurons_layer_2': 500, 'neurons_layer_3': 454, 'dropout_rate': 0.0}\n",
            "Accuracy: 0.9741566777229309, Loss: 0.07350471615791321\n",
            "Training with params: {'n_layers': 3, 'neurons_layer_1': 50, 'neurons_layer_2': 50, 'neurons_layer_3': 98, 'dropout_rate': 0.06374143481890546}\n",
            "Accuracy: 0.9753808379173279, Loss: 0.06758691370487213\n",
            "Training with params: {'n_layers': 3, 'neurons_layer_1': 154, 'neurons_layer_2': 500, 'neurons_layer_3': 262, 'dropout_rate': 0.20313871558752203}\n",
            "Accuracy: 0.9723884463310242, Loss: 0.07451113313436508\n",
            "Training with params: {'n_layers': 2, 'neurons_layer_1': 50, 'neurons_layer_2': 500, 'neurons_layer_3': 225, 'dropout_rate': 0.0}\n",
            "Accuracy: 0.9795973896980286, Loss: 0.05763169005513191\n",
            "Training with params: {'n_layers': 3, 'neurons_layer_1': 50, 'neurons_layer_2': 500, 'neurons_layer_3': 500, 'dropout_rate': 0.0}\n",
            "Accuracy: 0.9782372117042542, Loss: 0.06253940612077713\n",
            "Training with params: {'n_layers': 1, 'neurons_layer_1': 50, 'neurons_layer_2': 50, 'neurons_layer_3': 135, 'dropout_rate': 0.0}\n",
            "Accuracy: 0.97048419713974, Loss: 0.08441310375928879\n",
            "Training with params: {'n_layers': 3, 'neurons_layer_1': 500, 'neurons_layer_2': 50, 'neurons_layer_3': 65, 'dropout_rate': 0.08572841609782134}\n",
            "Accuracy: 0.9725244641304016, Loss: 0.07303828001022339\n",
            "Best parameters: [2, 50, 500, 225, 0.0]\n",
            "Best loss: 0.05763169005513191\n"
          ]
        }
      ]
    },
    {
      "cell_type": "markdown",
      "source": [
        "Use latest code with different surrogate models."
      ],
      "metadata": {
        "id": "PEsVi7FXsq0m"
      }
    }
  ]
}